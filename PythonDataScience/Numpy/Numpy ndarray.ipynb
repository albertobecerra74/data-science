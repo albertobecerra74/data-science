{
 "cells": [
  {
   "cell_type": "markdown",
   "metadata": {},
   "source": [
    "## Numpy - Basic Indexing and Slicing"
   ]
  },
  {
   "cell_type": "code",
   "execution_count": 18,
   "metadata": {},
   "outputs": [],
   "source": [
    "import numpy as np"
   ]
  },
  {
   "cell_type": "markdown",
   "metadata": {},
   "source": [
    "### 2 dimensiones"
   ]
  },
  {
   "cell_type": "code",
   "execution_count": 5,
   "metadata": {},
   "outputs": [],
   "source": [
    "arr2d = np.array([[1,2,3],[4,5,6],[7,8,9]])"
   ]
  },
  {
   "cell_type": "code",
   "execution_count": 6,
   "metadata": {},
   "outputs": [
    {
     "data": {
      "text/plain": [
       "array([[1, 2, 3],\n",
       "       [4, 5, 6],\n",
       "       [7, 8, 9]])"
      ]
     },
     "execution_count": 6,
     "metadata": {},
     "output_type": "execute_result"
    }
   ],
   "source": [
    "arr2d"
   ]
  },
  {
   "cell_type": "code",
   "execution_count": 7,
   "metadata": {},
   "outputs": [
    {
     "data": {
      "text/plain": [
       "array([7, 8, 9])"
      ]
     },
     "execution_count": 7,
     "metadata": {},
     "output_type": "execute_result"
    }
   ],
   "source": [
    "arr2d[2]"
   ]
  },
  {
   "cell_type": "code",
   "execution_count": 9,
   "metadata": {},
   "outputs": [],
   "source": [
    "arr2d[0] =  11"
   ]
  },
  {
   "cell_type": "code",
   "execution_count": 10,
   "metadata": {},
   "outputs": [
    {
     "data": {
      "text/plain": [
       "array([[11, 11, 11],\n",
       "       [ 4,  5,  6],\n",
       "       [ 7,  8,  9]])"
      ]
     },
     "execution_count": 10,
     "metadata": {},
     "output_type": "execute_result"
    }
   ],
   "source": [
    "arr2d\n"
   ]
  },
  {
   "cell_type": "markdown",
   "metadata": {},
   "source": [
    "### 3 dimensiones"
   ]
  },
  {
   "cell_type": "code",
   "execution_count": 11,
   "metadata": {},
   "outputs": [],
   "source": [
    "arr3d = np.array([[[1,2,3],[4,5,6],[7,8,9]],\n",
    "                  [[11,12,13],[14,15,16],[17,18,19]]])"
   ]
  },
  {
   "cell_type": "code",
   "execution_count": 12,
   "metadata": {},
   "outputs": [
    {
     "data": {
      "text/plain": [
       "array([[[ 1,  2,  3],\n",
       "        [ 4,  5,  6],\n",
       "        [ 7,  8,  9]],\n",
       "\n",
       "       [[11, 12, 13],\n",
       "        [14, 15, 16],\n",
       "        [17, 18, 19]]])"
      ]
     },
     "execution_count": 12,
     "metadata": {},
     "output_type": "execute_result"
    }
   ],
   "source": [
    "arr3d"
   ]
  },
  {
   "cell_type": "code",
   "execution_count": 14,
   "metadata": {},
   "outputs": [
    {
     "data": {
      "text/plain": [
       "3"
      ]
     },
     "execution_count": 14,
     "metadata": {},
     "output_type": "execute_result"
    }
   ],
   "source": [
    "arr3d.ndim"
   ]
  },
  {
   "cell_type": "code",
   "execution_count": 15,
   "metadata": {},
   "outputs": [
    {
     "data": {
      "text/plain": [
       "(2, 3, 3)"
      ]
     },
     "execution_count": 15,
     "metadata": {},
     "output_type": "execute_result"
    }
   ],
   "source": [
    "arr3d.shape\n"
   ]
  },
  {
   "cell_type": "code",
   "execution_count": 21,
   "metadata": {},
   "outputs": [
    {
     "data": {
      "text/plain": [
       "array([[1, 2, 3],\n",
       "       [4, 5, 6],\n",
       "       [7, 8, 9]])"
      ]
     },
     "execution_count": 21,
     "metadata": {},
     "output_type": "execute_result"
    }
   ],
   "source": [
    "arr3d[0]"
   ]
  },
  {
   "cell_type": "code",
   "execution_count": 17,
   "metadata": {},
   "outputs": [
    {
     "data": {
      "text/plain": [
       "array([4, 5, 6])"
      ]
     },
     "execution_count": 17,
     "metadata": {},
     "output_type": "execute_result"
    }
   ],
   "source": [
    "arr3d[0,1]"
   ]
  },
  {
   "cell_type": "markdown",
   "metadata": {},
   "source": [
    "## Boolean Indexing\n",
    "\n",
    "Se pueden realizar subselecciones en el array, utilizando como filtros, arrays booleanos.\n",
    "\n",
    "Selecciona aquellos en los que el valor es True.\n",
    "\n",
    "!! Atención, siempre que se hace una subselección por valores\n",
    "booleanos, SE CREA UNA COPIA del array,  incluso si el array\n",
    "devuelto es igual que el original !!\n"
   ]
  },
  {
   "cell_type": "code",
   "execution_count": 20,
   "metadata": {},
   "outputs": [],
   "source": [
    "names = np.array(['Bob', 'Joe', 'Will', 'Bob', 'Will', 'Joe', 'Joe'])"
   ]
  },
  {
   "cell_type": "code",
   "execution_count": 22,
   "metadata": {},
   "outputs": [],
   "source": [
    "data= np.random.randn(7,4)"
   ]
  },
  {
   "cell_type": "code",
   "execution_count": 23,
   "metadata": {},
   "outputs": [
    {
     "data": {
      "text/plain": [
       "array([[ 0.94122869,  0.07644921, -0.1658253 ,  0.08138635],\n",
       "       [ 0.93378953,  2.0832738 , -1.2881831 , -0.65616999],\n",
       "       [ 0.36483382, -1.30008441, -1.02978869,  0.26768644],\n",
       "       [-0.73140415, -1.01661321, -0.20670884, -0.20453093],\n",
       "       [ 0.5919085 , -1.49374556,  0.39171511, -1.13855594],\n",
       "       [ 1.26453749,  0.34262221, -1.83157577, -0.91918584],\n",
       "       [-0.1758048 ,  0.91922289,  1.42688314, -0.03098133]])"
      ]
     },
     "execution_count": 23,
     "metadata": {},
     "output_type": "execute_result"
    }
   ],
   "source": [
    "data"
   ]
  },
  {
   "cell_type": "code",
   "execution_count": 27,
   "metadata": {},
   "outputs": [
    {
     "data": {
      "text/plain": [
       "array([ True, False, False,  True, False, False, False])"
      ]
     },
     "execution_count": 27,
     "metadata": {},
     "output_type": "execute_result"
    }
   ],
   "source": [
    "names == 'Bob' # devuelve un array booleano"
   ]
  },
  {
   "cell_type": "code",
   "execution_count": 28,
   "metadata": {},
   "outputs": [
    {
     "data": {
      "text/plain": [
       "array([[ 0.94122869,  0.07644921, -0.1658253 ,  0.08138635],\n",
       "       [-0.73140415, -1.01661321, -0.20670884, -0.20453093]])"
      ]
     },
     "execution_count": 28,
     "metadata": {},
     "output_type": "execute_result"
    }
   ],
   "source": [
    "data[names == 'Bob'] # selecciona aquellas filas que son True"
   ]
  },
  {
   "cell_type": "code",
   "execution_count": 30,
   "metadata": {},
   "outputs": [
    {
     "data": {
      "text/plain": [
       "array([[ 0.94122869,  0.07644921],\n",
       "       [-0.73140415, -1.01661321]])"
      ]
     },
     "execution_count": 30,
     "metadata": {},
     "output_type": "execute_result"
    }
   ],
   "source": [
    "data[names == 'Bob', :2] # de las filas seleccionadas, filtra columnas"
   ]
  },
  {
   "cell_type": "code",
   "execution_count": 31,
   "metadata": {},
   "outputs": [],
   "source": [
    "names2 = np.array(['Bob', 'Bob', 'Joe', 'Will', 'Bob', 'Will', 'Joe', 'Joe'])"
   ]
  },
  {
   "cell_type": "code",
   "execution_count": 33,
   "metadata": {},
   "outputs": [
    {
     "ename": "IndexError",
     "evalue": "boolean index did not match indexed array along dimension 0; dimension is 7 but corresponding boolean dimension is 8",
     "output_type": "error",
     "traceback": [
      "\u001b[0;31m---------------------------------------------------------------------------\u001b[0m",
      "\u001b[0;31mIndexError\u001b[0m                                Traceback (most recent call last)",
      "\u001b[0;32m<ipython-input-33-75effc954bb3>\u001b[0m in \u001b[0;36m<module>\u001b[0;34m()\u001b[0m\n\u001b[0;32m----> 1\u001b[0;31m \u001b[0mdata\u001b[0m\u001b[0;34m[\u001b[0m\u001b[0mnames2\u001b[0m \u001b[0;34m==\u001b[0m \u001b[0;34m'Bob'\u001b[0m\u001b[0;34m]\u001b[0m\u001b[0;34m\u001b[0m\u001b[0m\n\u001b[0m\u001b[1;32m      2\u001b[0m \u001b[0;31m# el array booleano tiene que ser del mismo tamaño del indice\u001b[0m\u001b[0;34m\u001b[0m\u001b[0;34m\u001b[0m\u001b[0m\n\u001b[1;32m      3\u001b[0m \u001b[0;31m# que estamos tratando\u001b[0m\u001b[0;34m\u001b[0m\u001b[0;34m\u001b[0m\u001b[0m\n",
      "\u001b[0;31mIndexError\u001b[0m: boolean index did not match indexed array along dimension 0; dimension is 7 but corresponding boolean dimension is 8"
     ]
    }
   ],
   "source": [
    "data[names2 == 'Bob'] \n",
    "# el array booleano tiene que ser del mismo tamaño del indice\n",
    "# que estamos tratando"
   ]
  },
  {
   "cell_type": "code",
   "execution_count": 34,
   "metadata": {},
   "outputs": [
    {
     "data": {
      "text/plain": [
       "array([[ 0.93378953,  2.0832738 , -1.2881831 , -0.65616999],\n",
       "       [ 0.36483382, -1.30008441, -1.02978869,  0.26768644],\n",
       "       [ 0.5919085 , -1.49374556,  0.39171511, -1.13855594],\n",
       "       [ 1.26453749,  0.34262221, -1.83157577, -0.91918584],\n",
       "       [-0.1758048 ,  0.91922289,  1.42688314, -0.03098133]])"
      ]
     },
     "execution_count": 34,
     "metadata": {},
     "output_type": "execute_result"
    }
   ],
   "source": [
    "data[~(names == 'Bob')] #selecciona aquello distinto a la selección"
   ]
  },
  {
   "cell_type": "markdown",
   "metadata": {},
   "source": [
    "El operador  ~ puede ser útil cuando quieres invertir una condición"
   ]
  },
  {
   "cell_type": "code",
   "execution_count": 39,
   "metadata": {},
   "outputs": [
    {
     "data": {
      "text/plain": [
       "array([[ 0.94122869,  0.07644921, -0.1658253 ,  0.08138635],\n",
       "       [ 0.36483382, -1.30008441, -1.02978869,  0.26768644],\n",
       "       [-0.73140415, -1.01661321, -0.20670884, -0.20453093],\n",
       "       [ 0.5919085 , -1.49374556,  0.39171511, -1.13855594]])"
      ]
     },
     "execution_count": 39,
     "metadata": {},
     "output_type": "execute_result"
    }
   ],
   "source": [
    "data[(names == 'Bob') | (names == 'Will')] \n",
    "# selecciona aquellas filas que son True anidando condiciones"
   ]
  },
  {
   "cell_type": "code",
   "execution_count": 40,
   "metadata": {},
   "outputs": [],
   "source": [
    "data2 = data[(names == 'Bob') | (names == 'Will')]"
   ]
  },
  {
   "cell_type": "code",
   "execution_count": 41,
   "metadata": {},
   "outputs": [
    {
     "data": {
      "text/plain": [
       "array([[ 0.94122869,  0.07644921, -0.1658253 ,  0.08138635],\n",
       "       [ 0.36483382, -1.30008441, -1.02978869,  0.26768644],\n",
       "       [-0.73140415, -1.01661321, -0.20670884, -0.20453093],\n",
       "       [ 0.5919085 , -1.49374556,  0.39171511, -1.13855594]])"
      ]
     },
     "execution_count": 41,
     "metadata": {},
     "output_type": "execute_result"
    }
   ],
   "source": [
    "data2"
   ]
  },
  {
   "cell_type": "markdown",
   "metadata": {},
   "source": [
    "Si seleccionamos en el array con valores booleanos, se crea una copia,\n",
    "si modificamos el valor, no afectamos al original"
   ]
  },
  {
   "cell_type": "code",
   "execution_count": 43,
   "metadata": {},
   "outputs": [],
   "source": [
    "data2[0,0] = 0.3"
   ]
  },
  {
   "cell_type": "code",
   "execution_count": 44,
   "metadata": {},
   "outputs": [
    {
     "data": {
      "text/plain": [
       "array([[ 0.3       ,  0.07644921, -0.1658253 ,  0.08138635],\n",
       "       [ 0.36483382, -1.30008441, -1.02978869,  0.26768644],\n",
       "       [-0.73140415, -1.01661321, -0.20670884, -0.20453093],\n",
       "       [ 0.5919085 , -1.49374556,  0.39171511, -1.13855594]])"
      ]
     },
     "execution_count": 44,
     "metadata": {},
     "output_type": "execute_result"
    }
   ],
   "source": [
    "data2"
   ]
  },
  {
   "cell_type": "code",
   "execution_count": 45,
   "metadata": {},
   "outputs": [
    {
     "data": {
      "text/plain": [
       "array([[ 0.94122869,  0.07644921, -0.1658253 ,  0.08138635],\n",
       "       [ 0.93378953,  2.0832738 , -1.2881831 , -0.65616999],\n",
       "       [ 0.36483382, -1.30008441, -1.02978869,  0.26768644],\n",
       "       [-0.73140415, -1.01661321, -0.20670884, -0.20453093],\n",
       "       [ 0.5919085 , -1.49374556,  0.39171511, -1.13855594],\n",
       "       [ 1.26453749,  0.34262221, -1.83157577, -0.91918584],\n",
       "       [-0.1758048 ,  0.91922289,  1.42688314, -0.03098133]])"
      ]
     },
     "execution_count": 45,
     "metadata": {},
     "output_type": "execute_result"
    }
   ],
   "source": [
    "data"
   ]
  },
  {
   "cell_type": "markdown",
   "metadata": {},
   "source": [
    "Si creamos un indice a través de Slicing, se crea una vista\n",
    "del array original"
   ]
  },
  {
   "cell_type": "code",
   "execution_count": 71,
   "metadata": {},
   "outputs": [],
   "source": [
    "data4 = data[0,:]"
   ]
  },
  {
   "cell_type": "code",
   "execution_count": 72,
   "metadata": {},
   "outputs": [
    {
     "data": {
      "text/plain": [
       "numpy.ndarray"
      ]
     },
     "execution_count": 72,
     "metadata": {},
     "output_type": "execute_result"
    }
   ],
   "source": [
    "type(data4)"
   ]
  },
  {
   "cell_type": "code",
   "execution_count": 67,
   "metadata": {},
   "outputs": [
    {
     "data": {
      "text/plain": [
       "array([ 0.94122869,  0.07644921, -0.1658253 ,  0.08138635])"
      ]
     },
     "execution_count": 67,
     "metadata": {},
     "output_type": "execute_result"
    }
   ],
   "source": [
    "data4"
   ]
  },
  {
   "cell_type": "markdown",
   "metadata": {},
   "source": [
    "Modicamos los datos del array con la subselección"
   ]
  },
  {
   "cell_type": "code",
   "execution_count": 73,
   "metadata": {},
   "outputs": [],
   "source": [
    "data4[:] = 3"
   ]
  },
  {
   "cell_type": "code",
   "execution_count": 74,
   "metadata": {},
   "outputs": [
    {
     "data": {
      "text/plain": [
       "numpy.ndarray"
      ]
     },
     "execution_count": 74,
     "metadata": {},
     "output_type": "execute_result"
    }
   ],
   "source": [
    "type(data4)"
   ]
  },
  {
   "cell_type": "code",
   "execution_count": 75,
   "metadata": {},
   "outputs": [
    {
     "data": {
      "text/plain": [
       "array([3., 3., 3., 3.])"
      ]
     },
     "execution_count": 75,
     "metadata": {},
     "output_type": "execute_result"
    }
   ],
   "source": [
    "data4"
   ]
  },
  {
   "cell_type": "markdown",
   "metadata": {},
   "source": [
    "Los cambios en la subselección, modifican los valores del\n",
    "array original"
   ]
  },
  {
   "cell_type": "code",
   "execution_count": 76,
   "metadata": {},
   "outputs": [
    {
     "data": {
      "text/plain": [
       "array([[ 3.        ,  3.        ,  3.        ,  3.        ],\n",
       "       [ 0.93378953,  2.0832738 , -1.2881831 , -0.65616999],\n",
       "       [ 0.36483382, -1.30008441, -1.02978869,  0.26768644],\n",
       "       [-0.73140415, -1.01661321, -0.20670884, -0.20453093],\n",
       "       [ 0.5919085 , -1.49374556,  0.39171511, -1.13855594],\n",
       "       [ 1.26453749,  0.34262221, -1.83157577, -0.91918584],\n",
       "       [-0.1758048 ,  0.91922289,  1.42688314, -0.03098133]])"
      ]
     },
     "execution_count": 76,
     "metadata": {},
     "output_type": "execute_result"
    }
   ],
   "source": [
    "data"
   ]
  },
  {
   "cell_type": "markdown",
   "metadata": {},
   "source": [
    "No igualar los datos de la subselección a capón porque cambias\n",
    "la variable"
   ]
  },
  {
   "cell_type": "code",
   "execution_count": 77,
   "metadata": {},
   "outputs": [],
   "source": [
    "data4 = 1"
   ]
  },
  {
   "cell_type": "markdown",
   "metadata": {},
   "source": [
    "Pasa a ser una variable de tipo int"
   ]
  },
  {
   "cell_type": "code",
   "execution_count": 78,
   "metadata": {},
   "outputs": [
    {
     "data": {
      "text/plain": [
       "int"
      ]
     },
     "execution_count": 78,
     "metadata": {},
     "output_type": "execute_result"
    }
   ],
   "source": [
    " type(data4)"
   ]
  },
  {
   "cell_type": "code",
   "execution_count": 79,
   "metadata": {},
   "outputs": [
    {
     "data": {
      "text/plain": [
       "array([[ 3.        ,  3.        ,  3.        ,  3.        ],\n",
       "       [ 0.93378953,  2.0832738 , -1.2881831 , -0.65616999],\n",
       "       [ 0.36483382, -1.30008441, -1.02978869,  0.26768644],\n",
       "       [-0.73140415, -1.01661321, -0.20670884, -0.20453093],\n",
       "       [ 0.5919085 , -1.49374556,  0.39171511, -1.13855594],\n",
       "       [ 1.26453749,  0.34262221, -1.83157577, -0.91918584],\n",
       "       [-0.1758048 ,  0.91922289,  1.42688314, -0.03098133]])"
      ]
     },
     "execution_count": 79,
     "metadata": {},
     "output_type": "execute_result"
    }
   ],
   "source": [
    "data"
   ]
  },
  {
   "cell_type": "markdown",
   "metadata": {},
   "source": [
    "Podemos asignar valores en base a la subselección"
   ]
  },
  {
   "cell_type": "code",
   "execution_count": 80,
   "metadata": {},
   "outputs": [],
   "source": [
    "data[data < 0] = 0"
   ]
  },
  {
   "cell_type": "code",
   "execution_count": 81,
   "metadata": {},
   "outputs": [
    {
     "data": {
      "text/plain": [
       "array([[3.        , 3.        , 3.        , 3.        ],\n",
       "       [0.93378953, 2.0832738 , 0.        , 0.        ],\n",
       "       [0.36483382, 0.        , 0.        , 0.26768644],\n",
       "       [0.        , 0.        , 0.        , 0.        ],\n",
       "       [0.5919085 , 0.        , 0.39171511, 0.        ],\n",
       "       [1.26453749, 0.34262221, 0.        , 0.        ],\n",
       "       [0.        , 0.91922289, 1.42688314, 0.        ]])"
      ]
     },
     "execution_count": 81,
     "metadata": {},
     "output_type": "execute_result"
    }
   ],
   "source": [
    "data"
   ]
  },
  {
   "cell_type": "markdown",
   "metadata": {},
   "source": [
    "\n",
    "## Transposing Arrays"
   ]
  },
  {
   "cell_type": "code",
   "execution_count": 82,
   "metadata": {},
   "outputs": [],
   "source": [
    "arr = np.arange(15).reshape((3,5))"
   ]
  },
  {
   "cell_type": "code",
   "execution_count": 83,
   "metadata": {},
   "outputs": [
    {
     "data": {
      "text/plain": [
       "array([[ 0,  1,  2,  3,  4],\n",
       "       [ 5,  6,  7,  8,  9],\n",
       "       [10, 11, 12, 13, 14]])"
      ]
     },
     "execution_count": 83,
     "metadata": {},
     "output_type": "execute_result"
    }
   ],
   "source": [
    "arr"
   ]
  },
  {
   "cell_type": "code",
   "execution_count": 84,
   "metadata": {},
   "outputs": [
    {
     "data": {
      "text/plain": [
       "array([[ 0,  5, 10],\n",
       "       [ 1,  6, 11],\n",
       "       [ 2,  7, 12],\n",
       "       [ 3,  8, 13],\n",
       "       [ 4,  9, 14]])"
      ]
     },
     "execution_count": 84,
     "metadata": {},
     "output_type": "execute_result"
    }
   ],
   "source": [
    "arr.T"
   ]
  },
  {
   "cell_type": "markdown",
   "metadata": {},
   "source": [
    "## Multiplicación de matrices\n",
    "\n",
    "Dos matrices se pueden multiplicar si el número de columnas de la\n",
    "matriz A es igual al número de filas de la matriz B\n",
    "\n",
    "\n",
    "        a11 a12 a13\n",
    " A      a21 a22 a23\n",
    "        a31 a32 a33\n",
    "\n",
    "Shape (3,3)\n",
    "\n",
    "        b11 b12 b13\n",
    " B      b21 b22 b23\n",
    "        b31 b32 b33\n",
    "\n",
    "Shape (3,3)\n",
    "\n",
    "\n",
    "A * B \n",
    "\n",
    "Se multiplica la fila por la columna en cada uno de sus \n",
    "valores y el resultado es el correspondiente de la celda\n",
    "\n",
    "Ejemplo\n",
    "\n",
    "Celda11 = a11 * b11 + a12 * b21 + a13 * b3\n"
   ]
  },
  {
   "cell_type": "code",
   "execution_count": 86,
   "metadata": {},
   "outputs": [
    {
     "data": {
      "text/plain": [
       "array([[ 0,  5, 10],\n",
       "       [ 1,  6, 11],\n",
       "       [ 2,  7, 12],\n",
       "       [ 3,  8, 13],\n",
       "       [ 4,  9, 14]])"
      ]
     },
     "execution_count": 86,
     "metadata": {},
     "output_type": "execute_result"
    }
   ],
   "source": [
    "arr.T"
   ]
  },
  {
   "cell_type": "code",
   "execution_count": 87,
   "metadata": {},
   "outputs": [
    {
     "data": {
      "text/plain": [
       "array([[ 0,  1,  2,  3,  4],\n",
       "       [ 5,  6,  7,  8,  9],\n",
       "       [10, 11, 12, 13, 14]])"
      ]
     },
     "execution_count": 87,
     "metadata": {},
     "output_type": "execute_result"
    }
   ],
   "source": [
    "arr"
   ]
  },
  {
   "cell_type": "markdown",
   "metadata": {},
   "source": [
    " #### Matriz transpuesta por su matriz\n",
    " \n",
    " Matriz A: 5 x 3 \n",
    " Matriz B: 3 x 5\n",
    " \n",
    " Matriz resultante: 5 x 5\n",
    " \n",
    " \n",
    " "
   ]
  },
  {
   "cell_type": "code",
   "execution_count": 85,
   "metadata": {},
   "outputs": [
    {
     "data": {
      "text/plain": [
       "array([[125, 140, 155, 170, 185],\n",
       "       [140, 158, 176, 194, 212],\n",
       "       [155, 176, 197, 218, 239],\n",
       "       [170, 194, 218, 242, 266],\n",
       "       [185, 212, 239, 266, 293]])"
      ]
     },
     "execution_count": 85,
     "metadata": {},
     "output_type": "execute_result"
    }
   ],
   "source": [
    "np.dot (arr.T, arr)"
   ]
  },
  {
   "cell_type": "markdown",
   "metadata": {},
   "source": [
    "Celda11 = 0 x 0 + 5 x 5 + 10 x 10 = 125\n",
    "CeldaXX = Etc, etc"
   ]
  },
  {
   "cell_type": "code",
   "execution_count": 90,
   "metadata": {},
   "outputs": [],
   "source": [
    "arr3 = np.arange(9).reshape((3,3))"
   ]
  },
  {
   "cell_type": "code",
   "execution_count": 91,
   "metadata": {},
   "outputs": [
    {
     "data": {
      "text/plain": [
       "array([[0, 1, 2],\n",
       "       [3, 4, 5],\n",
       "       [6, 7, 8]])"
      ]
     },
     "execution_count": 91,
     "metadata": {},
     "output_type": "execute_result"
    }
   ],
   "source": [
    "arr3"
   ]
  },
  {
   "cell_type": "code",
   "execution_count": 92,
   "metadata": {},
   "outputs": [],
   "source": [
    "arr4 = np.arange(9).reshape((3,3))"
   ]
  },
  {
   "cell_type": "code",
   "execution_count": 93,
   "metadata": {},
   "outputs": [
    {
     "data": {
      "text/plain": [
       "array([[0, 1, 2],\n",
       "       [3, 4, 5],\n",
       "       [6, 7, 8]])"
      ]
     },
     "execution_count": 93,
     "metadata": {},
     "output_type": "execute_result"
    }
   ],
   "source": [
    "arr4"
   ]
  },
  {
   "cell_type": "code",
   "execution_count": 94,
   "metadata": {},
   "outputs": [
    {
     "data": {
      "text/plain": [
       "array([[ 15,  18,  21],\n",
       "       [ 42,  54,  66],\n",
       "       [ 69,  90, 111]])"
      ]
     },
     "execution_count": 94,
     "metadata": {},
     "output_type": "execute_result"
    }
   ],
   "source": [
    "np.dot(arr3, arr4)"
   ]
  },
  {
   "cell_type": "code",
   "execution_count": 96,
   "metadata": {},
   "outputs": [
    {
     "data": {
      "text/plain": [
       "array([[0, 1, 1],\n",
       "       [1, 1, 1],\n",
       "       [1, 1, 1]])"
      ]
     },
     "execution_count": 96,
     "metadata": {},
     "output_type": "execute_result"
    }
   ],
   "source": [
    "np.sign(arr4) # determina el signo de cada elemento 1+ 0-"
   ]
  },
  {
   "cell_type": "code",
   "execution_count": 97,
   "metadata": {},
   "outputs": [
    {
     "data": {
      "text/plain": [
       "array([[0., 1., 2.],\n",
       "       [3., 4., 5.],\n",
       "       [6., 7., 8.]])"
      ]
     },
     "execution_count": 97,
     "metadata": {},
     "output_type": "execute_result"
    }
   ],
   "source": [
    "np.ceil(arr4)"
   ]
  },
  {
   "cell_type": "code",
   "execution_count": 98,
   "metadata": {},
   "outputs": [],
   "source": [
    "data= np.random.randn(7,4)"
   ]
  },
  {
   "cell_type": "code",
   "execution_count": 100,
   "metadata": {},
   "outputs": [
    {
     "data": {
      "text/plain": [
       "array([[-1.97696942,  0.03951091,  0.72975879, -0.91479572],\n",
       "       [ 1.11712003, -0.69278979, -0.16454356,  1.11890073],\n",
       "       [-0.92112628,  1.49994811,  0.09167615, -0.17076331],\n",
       "       [-1.02878243,  0.16361544,  0.62628984,  1.07207584],\n",
       "       [-1.36968275, -1.18175284,  0.22646402, -0.87985383],\n",
       "       [-1.0750434 , -0.79882925, -0.30056976,  0.92361285],\n",
       "       [-0.08016755, -2.0701819 ,  0.75528139, -0.48997173]])"
      ]
     },
     "execution_count": 100,
     "metadata": {},
     "output_type": "execute_result"
    }
   ],
   "source": [
    "data"
   ]
  },
  {
   "cell_type": "code",
   "execution_count": 99,
   "metadata": {},
   "outputs": [
    {
     "data": {
      "text/plain": [
       "array([[-1.,  1.,  1., -0.],\n",
       "       [ 2., -0., -0.,  2.],\n",
       "       [-0.,  2.,  1., -0.],\n",
       "       [-1.,  1.,  1.,  2.],\n",
       "       [-1., -1.,  1., -0.],\n",
       "       [-1., -0., -0.,  1.],\n",
       "       [-0., -2.,  1., -0.]])"
      ]
     },
     "execution_count": 99,
     "metadata": {},
     "output_type": "execute_result"
    }
   ],
   "source": [
    "np.ceil(data)"
   ]
  },
  {
   "cell_type": "code",
   "execution_count": 101,
   "metadata": {},
   "outputs": [
    {
     "data": {
      "text/plain": [
       "array([[-2.,  0.,  0., -1.],\n",
       "       [ 1., -1., -1.,  1.],\n",
       "       [-1.,  1.,  0., -1.],\n",
       "       [-2.,  0.,  0.,  1.],\n",
       "       [-2., -2.,  0., -1.],\n",
       "       [-2., -1., -1.,  0.],\n",
       "       [-1., -3.,  0., -1.]])"
      ]
     },
     "execution_count": 101,
     "metadata": {},
     "output_type": "execute_result"
    }
   ],
   "source": [
    "np.floor(data)"
   ]
  },
  {
   "cell_type": "code",
   "execution_count": 102,
   "metadata": {},
   "outputs": [
    {
     "data": {
      "text/plain": [
       "array([[-2.,  0.,  1., -1.],\n",
       "       [ 1., -1., -0.,  1.],\n",
       "       [-1.,  1.,  0., -0.],\n",
       "       [-1.,  0.,  1.,  1.],\n",
       "       [-1., -1.,  0., -1.],\n",
       "       [-1., -1., -0.,  1.],\n",
       "       [-0., -2.,  1., -0.]])"
      ]
     },
     "execution_count": 102,
     "metadata": {},
     "output_type": "execute_result"
    }
   ],
   "source": [
    "np.rint(data)"
   ]
  },
  {
   "cell_type": "code",
   "execution_count": 103,
   "metadata": {},
   "outputs": [
    {
     "data": {
      "text/plain": [
       "array([[False, False, False, False],\n",
       "       [False, False, False, False],\n",
       "       [False, False, False, False],\n",
       "       [False, False, False, False],\n",
       "       [False, False, False, False],\n",
       "       [False, False, False, False],\n",
       "       [False, False, False, False]])"
      ]
     },
     "execution_count": 103,
     "metadata": {},
     "output_type": "execute_result"
    }
   ],
   "source": [
    "np.isnan(data)"
   ]
  },
  {
   "cell_type": "code",
   "execution_count": 104,
   "metadata": {},
   "outputs": [
    {
     "data": {
      "text/plain": [
       "array([[-1.97696942,  0.03951091,  0.72975879, -0.91479572],\n",
       "       [ 1.11712003, -0.69278979, -0.16454356,  1.11890073],\n",
       "       [-0.92112628,  1.49994811,  0.09167615, -0.17076331],\n",
       "       [-1.02878243,  0.16361544,  0.62628984,  1.07207584],\n",
       "       [-1.36968275, -1.18175284,  0.22646402, -0.87985383],\n",
       "       [-1.0750434 , -0.79882925, -0.30056976,  0.92361285],\n",
       "       [-0.08016755, -2.0701819 ,  0.75528139, -0.48997173]])"
      ]
     },
     "execution_count": 104,
     "metadata": {},
     "output_type": "execute_result"
    }
   ],
   "source": [
    "data"
   ]
  },
  {
   "cell_type": "code",
   "execution_count": 105,
   "metadata": {},
   "outputs": [
    {
     "data": {
      "text/plain": [
       "array([[3.02303058, 5.03951091, 5.72975879, 4.08520428],\n",
       "       [6.11712003, 4.30721021, 4.83545644, 6.11890073],\n",
       "       [4.07887372, 6.49994811, 5.09167615, 4.82923669],\n",
       "       [3.97121757, 5.16361544, 5.62628984, 6.07207584],\n",
       "       [3.63031725, 3.81824716, 5.22646402, 4.12014617],\n",
       "       [3.9249566 , 4.20117075, 4.69943024, 5.92361285],\n",
       "       [4.91983245, 2.9298181 , 5.75528139, 4.51002827]])"
      ]
     },
     "execution_count": 105,
     "metadata": {},
     "output_type": "execute_result"
    }
   ],
   "source": [
    "np.add(data, 5)"
   ]
  },
  {
   "cell_type": "code",
   "execution_count": 108,
   "metadata": {},
   "outputs": [
    {
     "data": {
      "text/plain": [
       "array([[-1.97696942,  0.03951091,  0.72975879, -0.91479572],\n",
       "       [ 1.11712003, -0.69278979, -0.16454356,  1.11890073],\n",
       "       [-0.92112628,  1.49994811,  0.09167615, -0.17076331],\n",
       "       [-1.02878243,  0.16361544,  0.62628984,  1.07207584],\n",
       "       [-1.36968275, -1.18175284,  0.22646402, -0.87985383],\n",
       "       [-1.0750434 , -0.79882925, -0.30056976,  0.92361285],\n",
       "       [-0.08016755, -2.0701819 ,  0.75528139, -0.48997173]])"
      ]
     },
     "execution_count": 108,
     "metadata": {},
     "output_type": "execute_result"
    }
   ],
   "source": [
    "data"
   ]
  },
  {
   "cell_type": "markdown",
   "metadata": {},
   "source": [
    "#### np.where\n",
    "Si se cumple una condición haz una cosa u otra"
   ]
  },
  {
   "cell_type": "code",
   "execution_count": 110,
   "metadata": {},
   "outputs": [
    {
     "data": {
      "text/plain": [
       "array([[False,  True,  True, False],\n",
       "       [ True, False, False,  True],\n",
       "       [False,  True,  True, False],\n",
       "       [False,  True,  True,  True],\n",
       "       [False, False,  True, False],\n",
       "       [False, False, False,  True],\n",
       "       [False, False,  True, False]])"
      ]
     },
     "execution_count": 110,
     "metadata": {},
     "output_type": "execute_result"
    }
   ],
   "source": [
    "np.where(data > 0, True, False)"
   ]
  },
  {
   "cell_type": "code",
   "execution_count": 111,
   "metadata": {},
   "outputs": [
    {
     "data": {
      "text/plain": [
       "array([[-1.97696942,  0.03951091,  0.72975879, -0.91479572],\n",
       "       [ 1.11712003, -0.69278979, -0.16454356,  1.11890073],\n",
       "       [-0.92112628,  1.49994811,  0.09167615, -0.17076331],\n",
       "       [-1.02878243,  0.16361544,  0.62628984,  1.07207584],\n",
       "       [-1.36968275, -1.18175284,  0.22646402, -0.87985383],\n",
       "       [-1.0750434 , -0.79882925, -0.30056976,  0.92361285],\n",
       "       [-0.08016755, -2.0701819 ,  0.75528139, -0.48997173]])"
      ]
     },
     "execution_count": 111,
     "metadata": {},
     "output_type": "execute_result"
    }
   ],
   "source": [
    "data"
   ]
  },
  {
   "cell_type": "markdown",
   "metadata": {},
   "source": [
    "####  Salvar un array a disco"
   ]
  },
  {
   "cell_type": "code",
   "execution_count": 112,
   "metadata": {},
   "outputs": [],
   "source": [
    "np.save('data_array', data)\n"
   ]
  },
  {
   "cell_type": "markdown",
   "metadata": {},
   "source": [
    "####  Cargar un array de disco"
   ]
  },
  {
   "cell_type": "code",
   "execution_count": 114,
   "metadata": {},
   "outputs": [],
   "source": [
    "datal = np.load('data_array.npy')"
   ]
  },
  {
   "cell_type": "code",
   "execution_count": 115,
   "metadata": {},
   "outputs": [
    {
     "data": {
      "text/plain": [
       "numpy.ndarray"
      ]
     },
     "execution_count": 115,
     "metadata": {},
     "output_type": "execute_result"
    }
   ],
   "source": [
    "type(datal)"
   ]
  },
  {
   "cell_type": "code",
   "execution_count": 116,
   "metadata": {},
   "outputs": [
    {
     "data": {
      "text/plain": [
       "array([[ 0.3       ,  0.07644921, -0.1658253 ,  0.08138635],\n",
       "       [ 0.36483382, -1.30008441, -1.02978869,  0.26768644],\n",
       "       [-0.73140415, -1.01661321, -0.20670884, -0.20453093],\n",
       "       [ 0.5919085 , -1.49374556,  0.39171511, -1.13855594]])"
      ]
     },
     "execution_count": 116,
     "metadata": {},
     "output_type": "execute_result"
    }
   ],
   "source": [
    "data2"
   ]
  },
  {
   "cell_type": "markdown",
   "metadata": {},
   "source": [
    "#### Salvar varios arrays"
   ]
  },
  {
   "cell_type": "code",
   "execution_count": 118,
   "metadata": {},
   "outputs": [],
   "source": [
    "np.savez('save_array', a=data, b=data2)"
   ]
  },
  {
   "cell_type": "code",
   "execution_count": 122,
   "metadata": {},
   "outputs": [],
   "source": [
    "arch = np.load('save_array.npz')"
   ]
  },
  {
   "cell_type": "code",
   "execution_count": 123,
   "metadata": {},
   "outputs": [
    {
     "data": {
      "text/plain": [
       "<numpy.lib.npyio.NpzFile at 0x7fa5cbe32908>"
      ]
     },
     "execution_count": 123,
     "metadata": {},
     "output_type": "execute_result"
    }
   ],
   "source": [
    "arch"
   ]
  },
  {
   "cell_type": "code",
   "execution_count": 124,
   "metadata": {},
   "outputs": [
    {
     "data": {
      "text/plain": [
       "numpy.lib.npyio.NpzFile"
      ]
     },
     "execution_count": 124,
     "metadata": {},
     "output_type": "execute_result"
    }
   ],
   "source": [
    "type(arch)"
   ]
  },
  {
   "cell_type": "code",
   "execution_count": 128,
   "metadata": {},
   "outputs": [
    {
     "data": {
      "text/plain": [
       "array([[-1.97696942,  0.03951091,  0.72975879, -0.91479572],\n",
       "       [ 1.11712003, -0.69278979, -0.16454356,  1.11890073],\n",
       "       [-0.92112628,  1.49994811,  0.09167615, -0.17076331],\n",
       "       [-1.02878243,  0.16361544,  0.62628984,  1.07207584],\n",
       "       [-1.36968275, -1.18175284,  0.22646402, -0.87985383],\n",
       "       [-1.0750434 , -0.79882925, -0.30056976,  0.92361285],\n",
       "       [-0.08016755, -2.0701819 ,  0.75528139, -0.48997173]])"
      ]
     },
     "execution_count": 128,
     "metadata": {},
     "output_type": "execute_result"
    }
   ],
   "source": [
    "# recuperar el array al que dimos el nombre de a\n",
    "\n",
    "arch['a']"
   ]
  },
  {
   "cell_type": "code",
   "execution_count": 133,
   "metadata": {},
   "outputs": [
    {
     "data": {
      "text/plain": [
       "array([0.4897932 , 0.27931502, 0.632973  , 0.63449246, 0.23355499,\n",
       "       0.93379032, 0.990677  , 0.49067185, 0.4315117 , 0.15816648,\n",
       "       0.31757578, 0.27436737, 0.18318743, 0.78920315, 0.50011023,\n",
       "       0.22628308, 0.06898975, 0.53074502, 0.43453589, 0.30981597,\n",
       "       0.6244999 , 0.70368474, 0.89632579, 0.19557886, 0.24479211,\n",
       "       0.53787406, 0.82994657, 0.00904823, 0.66833901, 0.41170144,\n",
       "       0.80133138, 0.926391  , 0.5524936 , 0.62925057, 0.04200116,\n",
       "       0.84930239, 0.43591458, 0.89020859, 0.65239727, 0.36517081,\n",
       "       0.65249876, 0.82100389, 0.02273923, 0.68509415, 0.62722073,\n",
       "       0.72527648, 0.94295899, 0.89124446, 0.40347064, 0.68097924,\n",
       "       0.57346274, 0.89611101, 0.24954741, 0.44824949, 0.21340271,\n",
       "       0.93541528, 0.19629624, 0.18866516, 0.91399304, 0.92587311,\n",
       "       0.74161886, 0.94086418, 0.40963426, 0.57028681, 0.0759244 ,\n",
       "       0.85897075, 0.89662671, 0.61926679, 0.94741956, 0.83630903,\n",
       "       0.5988905 , 0.26382526, 0.89063729, 0.28085612, 0.37330509,\n",
       "       0.92549643, 0.07961353, 0.49811591, 0.81003369, 0.79818188,\n",
       "       0.63956166, 0.11414706, 0.33627056, 0.99517313, 0.58994294,\n",
       "       0.36332161, 0.49275272, 0.78861754, 0.63886156, 0.87056406,\n",
       "       0.493906  , 0.02376435, 0.29028531, 0.60633793, 0.99493999,\n",
       "       0.60743878, 0.35152122, 0.87055899, 0.91731983, 0.68888945])"
      ]
     },
     "execution_count": 133,
     "metadata": {},
     "output_type": "execute_result"
    }
   ],
   "source": [
    "np.random.rand(100)"
   ]
  },
  {
   "cell_type": "code",
   "execution_count": 135,
   "metadata": {},
   "outputs": [
    {
     "data": {
      "text/plain": [
       "array([19, 59,  1, 93, 12, 90, 40,  1,  6, 65])"
      ]
     },
     "execution_count": 135,
     "metadata": {},
     "output_type": "execute_result"
    }
   ],
   "source": [
    "np.random.randint(0, 100, 10)"
   ]
  },
  {
   "cell_type": "code",
   "execution_count": 136,
   "metadata": {},
   "outputs": [
    {
     "data": {
      "text/plain": [
       "array([ 1.09649516, -1.26818019, -0.1923157 ,  0.0218038 ,  0.8328638 ,\n",
       "        0.62721847, -1.15229029, -1.15922459, -0.14758787,  0.53284475])"
      ]
     },
     "execution_count": 136,
     "metadata": {},
     "output_type": "execute_result"
    }
   ],
   "source": [
    "np.random.randn(10)"
   ]
  },
  {
   "cell_type": "code",
   "execution_count": 138,
   "metadata": {},
   "outputs": [],
   "source": []
  },
  {
   "cell_type": "code",
   "execution_count": null,
   "metadata": {},
   "outputs": [],
   "source": []
  }
 ],
 "metadata": {
  "kernelspec": {
   "display_name": "Python 3",
   "language": "python",
   "name": "python3"
  },
  "language_info": {
   "codemirror_mode": {
    "name": "ipython",
    "version": 3
   },
   "file_extension": ".py",
   "mimetype": "text/x-python",
   "name": "python",
   "nbconvert_exporter": "python",
   "pygments_lexer": "ipython3",
   "version": "3.6.5"
  }
 },
 "nbformat": 4,
 "nbformat_minor": 2
}
