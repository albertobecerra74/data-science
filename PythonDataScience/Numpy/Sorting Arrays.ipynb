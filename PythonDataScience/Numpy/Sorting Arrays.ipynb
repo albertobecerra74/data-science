{
 "cells": [
  {
   "cell_type": "markdown",
   "metadata": {},
   "source": [
    "## Sorting Arrays\n",
    "\n",
    "* np.sort(x) -> ordena el array sin modificar este\n",
    "* x.sort(x)  -> ordena el array modificando este\n"
   ]
  },
  {
   "cell_type": "code",
   "execution_count": 1,
   "metadata": {},
   "outputs": [],
   "source": [
    "import numpy as np"
   ]
  },
  {
   "cell_type": "code",
   "execution_count": 15,
   "metadata": {},
   "outputs": [],
   "source": [
    "x = np.array([2,1,4,3,5])"
   ]
  },
  {
   "cell_type": "code",
   "execution_count": 16,
   "metadata": {},
   "outputs": [
    {
     "data": {
      "text/plain": [
       "array([1, 2, 3, 4, 5])"
      ]
     },
     "execution_count": 16,
     "metadata": {},
     "output_type": "execute_result"
    }
   ],
   "source": [
    "# ordena el array sin modificar este\n",
    "np.sort(x)"
   ]
  },
  {
   "cell_type": "code",
   "execution_count": 17,
   "metadata": {},
   "outputs": [],
   "source": [
    "# ordena el array modificando este\n",
    "x.sort()"
   ]
  },
  {
   "cell_type": "code",
   "execution_count": 18,
   "metadata": {},
   "outputs": [
    {
     "data": {
      "text/plain": [
       "array([1, 2, 3, 4, 5])"
      ]
     },
     "execution_count": 18,
     "metadata": {},
     "output_type": "execute_result"
    }
   ],
   "source": [
    "x"
   ]
  },
  {
   "cell_type": "code",
   "execution_count": 19,
   "metadata": {},
   "outputs": [],
   "source": [
    "x = np.array([2,1,4,3,5])"
   ]
  },
  {
   "cell_type": "code",
   "execution_count": 20,
   "metadata": {},
   "outputs": [
    {
     "data": {
      "text/plain": [
       "array([1, 0, 3, 2, 4])"
      ]
     },
     "execution_count": 20,
     "metadata": {},
     "output_type": "execute_result"
    }
   ],
   "source": [
    "# ordena el array devolviendo los índices de este\n",
    "np.argsort(x)\n"
   ]
  },
  {
   "cell_type": "code",
   "execution_count": 21,
   "metadata": {},
   "outputs": [],
   "source": [
    "i = np.argsort(x)"
   ]
  },
  {
   "cell_type": "code",
   "execution_count": 22,
   "metadata": {},
   "outputs": [
    {
     "data": {
      "text/plain": [
       "array([1, 2, 3, 4, 5])"
      ]
     },
     "execution_count": 22,
     "metadata": {},
     "output_type": "execute_result"
    }
   ],
   "source": [
    "# fancy indexing\n",
    "x[i]"
   ]
  },
  {
   "cell_type": "code",
   "execution_count": 23,
   "metadata": {},
   "outputs": [
    {
     "data": {
      "text/plain": [
       "array([2, 1, 4, 3, 5])"
      ]
     },
     "execution_count": 23,
     "metadata": {},
     "output_type": "execute_result"
    }
   ],
   "source": [
    "x"
   ]
  },
  {
   "cell_type": "markdown",
   "metadata": {},
   "source": [
    "Si hacemos un sort y lo guardamos, creamos un nuevo array ordenado"
   ]
  },
  {
   "cell_type": "code",
   "execution_count": 30,
   "metadata": {},
   "outputs": [],
   "source": [
    "x = np.array([2,1,4,3,5])"
   ]
  },
  {
   "cell_type": "code",
   "execution_count": 31,
   "metadata": {},
   "outputs": [],
   "source": [
    "y = np.sort(x)"
   ]
  },
  {
   "cell_type": "code",
   "execution_count": 32,
   "metadata": {},
   "outputs": [
    {
     "data": {
      "text/plain": [
       "array([1, 2, 3, 4, 5])"
      ]
     },
     "execution_count": 32,
     "metadata": {},
     "output_type": "execute_result"
    }
   ],
   "source": [
    "y"
   ]
  },
  {
   "cell_type": "code",
   "execution_count": 33,
   "metadata": {},
   "outputs": [],
   "source": [
    "y[0] = 10"
   ]
  },
  {
   "cell_type": "code",
   "execution_count": 34,
   "metadata": {},
   "outputs": [
    {
     "data": {
      "text/plain": [
       "array([10,  2,  3,  4,  5])"
      ]
     },
     "execution_count": 34,
     "metadata": {},
     "output_type": "execute_result"
    }
   ],
   "source": [
    "y"
   ]
  },
  {
   "cell_type": "code",
   "execution_count": 35,
   "metadata": {},
   "outputs": [
    {
     "data": {
      "text/plain": [
       "array([2, 1, 4, 3, 5])"
      ]
     },
     "execution_count": 35,
     "metadata": {},
     "output_type": "execute_result"
    }
   ],
   "source": [
    "x"
   ]
  },
  {
   "cell_type": "markdown",
   "metadata": {},
   "source": [
    "### Sorting along rows or columns\n",
    "\n",
    "Atención!!!\n",
    "Estas ordenaciones trata cada columna o fila como arrays independientes\n",
    "de forma que si ordenamos los valores de esta forma perderemos la\n",
    "relación entre filas y columnas"
   ]
  },
  {
   "cell_type": "code",
   "execution_count": 37,
   "metadata": {},
   "outputs": [],
   "source": [
    "rand = np.random.RandomState(42)"
   ]
  },
  {
   "cell_type": "code",
   "execution_count": 38,
   "metadata": {},
   "outputs": [],
   "source": [
    "x= rand.randint(0, 10, (4,6))"
   ]
  },
  {
   "cell_type": "code",
   "execution_count": 39,
   "metadata": {},
   "outputs": [
    {
     "data": {
      "text/plain": [
       "array([[6, 3, 7, 4, 6, 9],\n",
       "       [2, 6, 7, 4, 3, 7],\n",
       "       [7, 2, 5, 4, 1, 7],\n",
       "       [5, 1, 4, 0, 9, 5]])"
      ]
     },
     "execution_count": 39,
     "metadata": {},
     "output_type": "execute_result"
    }
   ],
   "source": [
    "x"
   ]
  },
  {
   "cell_type": "code",
   "execution_count": 40,
   "metadata": {},
   "outputs": [
    {
     "data": {
      "text/plain": [
       "array([[2, 1, 4, 0, 1, 5],\n",
       "       [5, 2, 5, 4, 3, 7],\n",
       "       [6, 3, 7, 4, 6, 7],\n",
       "       [7, 6, 7, 4, 9, 9]])"
      ]
     },
     "execution_count": 40,
     "metadata": {},
     "output_type": "execute_result"
    }
   ],
   "source": [
    "# sort each colum of x\n",
    "np.sort(x, axis=0)"
   ]
  },
  {
   "cell_type": "code",
   "execution_count": 41,
   "metadata": {},
   "outputs": [
    {
     "data": {
      "text/plain": [
       "array([[3, 4, 6, 6, 7, 9],\n",
       "       [2, 3, 4, 6, 7, 7],\n",
       "       [1, 2, 4, 5, 7, 7],\n",
       "       [0, 1, 4, 5, 5, 9]])"
      ]
     },
     "execution_count": 41,
     "metadata": {},
     "output_type": "execute_result"
    }
   ],
   "source": [
    "# sort each row of x\n",
    "np.sort(x, axis=1)"
   ]
  },
  {
   "cell_type": "markdown",
   "metadata": {},
   "source": [
    "### Partial Sorts\n",
    "\n",
    "* np.partition(x,K): el resultado es un nuevo array donde los K valores más pequeños quedan ordenados a la izquierda del array y luego le acompañan el resto de valores. La ordenación es arbitraria.\n"
   ]
  },
  {
   "cell_type": "code",
   "execution_count": 42,
   "metadata": {},
   "outputs": [],
   "source": [
    "x = np.array([7,2,3,1,6,5,4])"
   ]
  },
  {
   "cell_type": "code",
   "execution_count": 43,
   "metadata": {},
   "outputs": [
    {
     "data": {
      "text/plain": [
       "array([2, 1, 3, 4, 6, 5, 7])"
      ]
     },
     "execution_count": 43,
     "metadata": {},
     "output_type": "execute_result"
    }
   ],
   "source": [
    "np.partition(x,3)"
   ]
  },
  {
   "cell_type": "code",
   "execution_count": 45,
   "metadata": {},
   "outputs": [],
   "source": [
    "x= rand.randint(0, 10, (4,6))"
   ]
  },
  {
   "cell_type": "code",
   "execution_count": 46,
   "metadata": {},
   "outputs": [
    {
     "data": {
      "text/plain": [
       "array([[6, 7, 2, 0, 3, 1],\n",
       "       [7, 3, 1, 5, 5, 9],\n",
       "       [3, 5, 1, 9, 1, 9],\n",
       "       [3, 7, 6, 8, 7, 4]])"
      ]
     },
     "execution_count": 46,
     "metadata": {},
     "output_type": "execute_result"
    }
   ],
   "source": [
    "x"
   ]
  },
  {
   "cell_type": "code",
   "execution_count": 48,
   "metadata": {},
   "outputs": [
    {
     "data": {
      "text/plain": [
       "array([[0, 1, 2, 6, 3, 7],\n",
       "       [1, 3, 5, 7, 5, 9],\n",
       "       [1, 1, 3, 9, 5, 9],\n",
       "       [3, 4, 6, 8, 7, 7]])"
      ]
     },
     "execution_count": 48,
     "metadata": {},
     "output_type": "execute_result"
    }
   ],
   "source": [
    "# en un array bidimensional, ordena las filas con los dos primeros\n",
    "# valores más pequeños por cada una de ellas\n",
    "np.partition(x,2, axis= 1) "
   ]
  },
  {
   "cell_type": "markdown",
   "metadata": {},
   "source": [
    "## k-Nearest-Neighbors"
   ]
  },
  {
   "cell_type": "code",
   "execution_count": 49,
   "metadata": {},
   "outputs": [],
   "source": [
    "x= np.random.rand(10,2)"
   ]
  },
  {
   "cell_type": "code",
   "execution_count": 62,
   "metadata": {},
   "outputs": [
    {
     "data": {
      "text/plain": [
       "(10, 2)"
      ]
     },
     "execution_count": 62,
     "metadata": {},
     "output_type": "execute_result"
    }
   ],
   "source": [
    "x.shape"
   ]
  },
  {
   "cell_type": "code",
   "execution_count": 50,
   "metadata": {},
   "outputs": [
    {
     "data": {
      "text/plain": [
       "array([[0.97799341, 0.29933629],\n",
       "       [0.1357846 , 0.63118532],\n",
       "       [0.73438735, 0.71192969],\n",
       "       [0.95927763, 0.38352387],\n",
       "       [0.310287  , 0.45059295],\n",
       "       [0.32594072, 0.58179853],\n",
       "       [0.05565432, 0.01079489],\n",
       "       [0.65330796, 0.32436882],\n",
       "       [0.71760043, 0.24160679],\n",
       "       [0.59056807, 0.43052563]])"
      ]
     },
     "execution_count": 50,
     "metadata": {},
     "output_type": "execute_result"
    }
   ],
   "source": [
    "x"
   ]
  },
  {
   "cell_type": "code",
   "execution_count": 51,
   "metadata": {},
   "outputs": [],
   "source": [
    "import matplotlib.pyplot as plt\n",
    "import seaborn; seaborn.set()"
   ]
  },
  {
   "cell_type": "code",
   "execution_count": 52,
   "metadata": {},
   "outputs": [
    {
     "data": {
      "text/plain": [
       "<matplotlib.collections.PathCollection at 0x7f4aa0f238d0>"
      ]
     },
     "execution_count": 52,
     "metadata": {},
     "output_type": "execute_result"
    },
    {
     "data": {
      "image/png": "[encoded data removed]",
      "text/plain": [
       "<Figure size 432x288 with 1 Axes>"
      ]
     },
     "metadata": {},
     "output_type": "display_data"
    }
   ],
   "source": [
    "plt.scatter(x[:,0], x[:,1], s=100)"
   ]
  },
  {
   "cell_type": "code",
   "execution_count": 67,
   "metadata": {},
   "outputs": [],
   "source": [
    "differences1 = x[:,np.newaxis,:]\n",
    "differences2 = x[np.newaxis,:, :] "
   ]
  },
  {
   "cell_type": "code",
   "execution_count": 82,
   "metadata": {},
   "outputs": [
    {
     "data": {
      "text/plain": [
       "(10, 1, 2)"
      ]
     },
     "execution_count": 82,
     "metadata": {},
     "output_type": "execute_result"
    }
   ],
   "source": [
    "differences1.shape"
   ]
  },
  {
   "cell_type": "code",
   "execution_count": 83,
   "metadata": {},
   "outputs": [
    {
     "data": {
      "text/plain": [
       "(1, 10, 2)"
      ]
     },
     "execution_count": 83,
     "metadata": {},
     "output_type": "execute_result"
    }
   ],
   "source": [
    "differences2.shape"
   ]
  },
  {
   "cell_type": "code",
   "execution_count": 63,
   "metadata": {},
   "outputs": [],
   "source": [
    "differences = x[:,np.newaxis,:] - x[np.newaxis,:, :] "
   ]
  },
  {
   "cell_type": "code",
   "execution_count": 64,
   "metadata": {},
   "outputs": [
    {
     "data": {
      "text/plain": [
       "numpy.ndarray"
      ]
     },
     "execution_count": 64,
     "metadata": {},
     "output_type": "execute_result"
    }
   ],
   "source": [
    "type(differences)"
   ]
  },
  {
   "cell_type": "code",
   "execution_count": 65,
   "metadata": {},
   "outputs": [
    {
     "data": {
      "text/plain": [
       "(10, 10, 2)"
      ]
     },
     "execution_count": 65,
     "metadata": {},
     "output_type": "execute_result"
    }
   ],
   "source": [
    "differences.shape"
   ]
  },
  {
   "cell_type": "code",
   "execution_count": 66,
   "metadata": {},
   "outputs": [
    {
     "data": {
      "text/plain": [
       "array([[[ 0.        ,  0.        ],\n",
       "        [ 0.8422088 , -0.33184903],\n",
       "        [ 0.24360606, -0.4125934 ],\n",
       "        [ 0.01871577, -0.08418758],\n",
       "        [ 0.6677064 , -0.15125666],\n",
       "        [ 0.65205269, -0.28246224],\n",
       "        [ 0.92233909,  0.28854141],\n",
       "        [ 0.32468545, -0.02503253],\n",
       "        [ 0.26039298,  0.0577295 ],\n",
       "        [ 0.38742533, -0.13118934]],\n",
       "\n",
       "       [[-0.8422088 ,  0.33184903],\n",
       "        [ 0.        ,  0.        ],\n",
       "        [-0.59860274, -0.08074437],\n",
       "        [-0.82349303,  0.24766145],\n",
       "        [-0.1745024 ,  0.18059237],\n",
       "        [-0.19015612,  0.04938679],\n",
       "        [ 0.08013029,  0.62039043],\n",
       "        [-0.51752335,  0.3068165 ],\n",
       "        [-0.58181583,  0.38957853],\n",
       "        [-0.45478347,  0.20065969]],\n",
       "\n",
       "       [[-0.24360606,  0.4125934 ],\n",
       "        [ 0.59860274,  0.08074437],\n",
       "        [ 0.        ,  0.        ],\n",
       "        [-0.22489029,  0.32840582],\n",
       "        [ 0.42410034,  0.26133674],\n",
       "        [ 0.40844662,  0.13013116],\n",
       "        [ 0.67873303,  0.7011348 ],\n",
       "        [ 0.08107939,  0.38756087],\n",
       "        [ 0.01678692,  0.4703229 ],\n",
       "        [ 0.14381927,  0.28140406]],\n",
       "\n",
       "       [[-0.01871577,  0.08418758],\n",
       "        [ 0.82349303, -0.24766145],\n",
       "        [ 0.22489029, -0.32840582],\n",
       "        [ 0.        ,  0.        ],\n",
       "        [ 0.64899063, -0.06706908],\n",
       "        [ 0.63333691, -0.19827466],\n",
       "        [ 0.90362332,  0.37272899],\n",
       "        [ 0.30596967,  0.05915505],\n",
       "        [ 0.2416772 ,  0.14191708],\n",
       "        [ 0.36870956, -0.04700176]],\n",
       "\n",
       "       [[-0.6677064 ,  0.15125666],\n",
       "        [ 0.1745024 , -0.18059237],\n",
       "        [-0.42410034, -0.26133674],\n",
       "        [-0.64899063,  0.06706908],\n",
       "        [ 0.        ,  0.        ],\n",
       "        [-0.01565372, -0.13120558],\n",
       "        [ 0.25463269,  0.43979807],\n",
       "        [-0.34302095,  0.12622413],\n",
       "        [-0.40731343,  0.20898616],\n",
       "        [-0.28028107,  0.02006733]],\n",
       "\n",
       "       [[-0.65205269,  0.28246224],\n",
       "        [ 0.19015612, -0.04938679],\n",
       "        [-0.40844662, -0.13013116],\n",
       "        [-0.63333691,  0.19827466],\n",
       "        [ 0.01565372,  0.13120558],\n",
       "        [ 0.        ,  0.        ],\n",
       "        [ 0.27028641,  0.57100365],\n",
       "        [-0.32736724,  0.25742971],\n",
       "        [-0.39165971,  0.34019174],\n",
       "        [-0.26462735,  0.15127291]],\n",
       "\n",
       "       [[-0.92233909, -0.28854141],\n",
       "        [-0.08013029, -0.62039043],\n",
       "        [-0.67873303, -0.7011348 ],\n",
       "        [-0.90362332, -0.37272899],\n",
       "        [-0.25463269, -0.43979807],\n",
       "        [-0.27028641, -0.57100365],\n",
       "        [ 0.        ,  0.        ],\n",
       "        [-0.59765364, -0.31357393],\n",
       "        [-0.66194611, -0.2308119 ],\n",
       "        [-0.53491376, -0.41973074]],\n",
       "\n",
       "       [[-0.32468545,  0.02503253],\n",
       "        [ 0.51752335, -0.3068165 ],\n",
       "        [-0.08107939, -0.38756087],\n",
       "        [-0.30596967, -0.05915505],\n",
       "        [ 0.34302095, -0.12622413],\n",
       "        [ 0.32736724, -0.25742971],\n",
       "        [ 0.59765364,  0.31357393],\n",
       "        [ 0.        ,  0.        ],\n",
       "        [-0.06429247,  0.08276203],\n",
       "        [ 0.06273988, -0.10615681]],\n",
       "\n",
       "       [[-0.26039298, -0.0577295 ],\n",
       "        [ 0.58181583, -0.38957853],\n",
       "        [-0.01678692, -0.4703229 ],\n",
       "        [-0.2416772 , -0.14191708],\n",
       "        [ 0.40731343, -0.20898616],\n",
       "        [ 0.39165971, -0.34019174],\n",
       "        [ 0.66194611,  0.2308119 ],\n",
       "        [ 0.06429247, -0.08276203],\n",
       "        [ 0.        ,  0.        ],\n",
       "        [ 0.12703235, -0.18891884]],\n",
       "\n",
       "       [[-0.38742533,  0.13118934],\n",
       "        [ 0.45478347, -0.20065969],\n",
       "        [-0.14381927, -0.28140406],\n",
       "        [-0.36870956,  0.04700176],\n",
       "        [ 0.28028107, -0.02006733],\n",
       "        [ 0.26462735, -0.15127291],\n",
       "        [ 0.53491376,  0.41973074],\n",
       "        [-0.06273988,  0.10615681],\n",
       "        [-0.12703235,  0.18891884],\n",
       "        [ 0.        ,  0.        ]]])"
      ]
     },
     "execution_count": 66,
     "metadata": {},
     "output_type": "execute_result"
    }
   ],
   "source": [
    "differences"
   ]
  },
  {
   "cell_type": "code",
   "execution_count": null,
   "metadata": {},
   "outputs": [],
   "source": []
  }
 ],
 "metadata": {
  "kernelspec": {
   "display_name": "Python 3",
   "language": "python",
   "name": "python3"
  },
  "language_info": {
   "codemirror_mode": {
    "name": "ipython",
    "version": 3
   },
   "file_extension": ".py",
   "mimetype": "text/x-python",
   "name": "python",
   "nbconvert_exporter": "python",
   "pygments_lexer": "ipython3",
   "version": "3.6.5"
  }
 },
 "nbformat": 4,
 "nbformat_minor": 2
}
