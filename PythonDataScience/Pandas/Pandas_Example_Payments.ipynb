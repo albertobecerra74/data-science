{
 "cells": [
  {
   "cell_type": "markdown",
   "metadata": {},
   "source": [
    "# Pandas - Payments"
   ]
  },
  {
   "cell_type": "code",
   "execution_count": 84,
   "metadata": {},
   "outputs": [],
   "source": [
    "import numpy as np\n",
    "import pandas as pd"
   ]
  },
  {
   "cell_type": "markdown",
   "metadata": {},
   "source": [
    "### 1.- Data Loading\n",
    "\n",
    "Load the data into an analysis-ready format.\n",
    "— Possibly convert the data to an intermediate data storage format (CSV, HDF5,\n",
    "SQL, FITS, ENDF, ENSDF).\n",
    "— Convert the data to an easy-access data structure (NumPy arrays, Pandas data\n",
    "frames)."
   ]
  },
  {
   "cell_type": "code",
   "execution_count": 85,
   "metadata": {},
   "outputs": [],
   "source": [
    "# Localización del fichero a cargar\n",
    "file_path = '/home/alberto/Master/PythonDataScience/hvtasfp.csv'"
   ]
  },
  {
   "cell_type": "code",
   "execution_count": 86,
   "metadata": {},
   "outputs": [],
   "source": [
    "# Nombre de las columnas (si el fichero no incluye cabecera)\n",
    "column_names = ['Store', 'Date', 'Till', 'Ticket', 'Method', 'Hour', 'Type', 'Amount']"
   ]
  },
  {
   "cell_type": "code",
   "execution_count": 87,
   "metadata": {},
   "outputs": [
    {
     "name": "stdout",
     "output_type": "stream",
     "text": [
      "CPU times: user 22.6 s, sys: 7.12 s, total: 29.7 s\n",
      "Wall time: 36.3 s\n"
     ]
    }
   ],
   "source": [
    "# Cargamos el fichero\n",
    "%time df = pd.read_csv(file_path, header=None, names=column_names)"
   ]
  },
  {
   "cell_type": "code",
   "execution_count": 88,
   "metadata": {},
   "outputs": [
    {
     "data": {
      "text/plain": [
       "(63536741, 8)"
      ]
     },
     "execution_count": 88,
     "metadata": {},
     "output_type": "execute_result"
    }
   ],
   "source": [
    "# Comprobamos el tamaño del df\n",
    "df.shape"
   ]
  },
  {
   "cell_type": "markdown",
   "metadata": {},
   "source": [
    "### 2.- Data Cleaning and Preparation"
   ]
  },
  {
   "cell_type": "code",
   "execution_count": 89,
   "metadata": {},
   "outputs": [
    {
     "data": {
      "text/html": [
       "<div>\n",
       "<style scoped>\n",
       "    .dataframe tbody tr th:only-of-type {\n",
       "        vertical-align: middle;\n",
       "    }\n",
       "\n",
       "    .dataframe tbody tr th {\n",
       "        vertical-align: top;\n",
       "    }\n",
       "\n",
       "    .dataframe thead th {\n",
       "        text-align: right;\n",
       "    }\n",
       "</style>\n",
       "<table border=\"1\" class=\"dataframe\">\n",
       "  <thead>\n",
       "    <tr style=\"text-align: right;\">\n",
       "      <th></th>\n",
       "      <th>Store</th>\n",
       "      <th>Date</th>\n",
       "      <th>Till</th>\n",
       "      <th>Ticket</th>\n",
       "      <th>Method</th>\n",
       "      <th>Hour</th>\n",
       "      <th>Type</th>\n",
       "      <th>Amount</th>\n",
       "    </tr>\n",
       "  </thead>\n",
       "  <tbody>\n",
       "    <tr>\n",
       "      <th>0</th>\n",
       "      <td>851</td>\n",
       "      <td>20170301</td>\n",
       "      <td>1</td>\n",
       "      <td>24461</td>\n",
       "      <td>19</td>\n",
       "      <td>90721</td>\n",
       "      <td>1</td>\n",
       "      <td>33.32</td>\n",
       "    </tr>\n",
       "    <tr>\n",
       "      <th>1</th>\n",
       "      <td>851</td>\n",
       "      <td>20170301</td>\n",
       "      <td>1</td>\n",
       "      <td>24536</td>\n",
       "      <td>19</td>\n",
       "      <td>90721</td>\n",
       "      <td>5</td>\n",
       "      <td>33.32</td>\n",
       "    </tr>\n",
       "    <tr>\n",
       "      <th>2</th>\n",
       "      <td>851</td>\n",
       "      <td>20170301</td>\n",
       "      <td>1</td>\n",
       "      <td>25077</td>\n",
       "      <td>19</td>\n",
       "      <td>81206</td>\n",
       "      <td>1</td>\n",
       "      <td>8.99</td>\n",
       "    </tr>\n",
       "    <tr>\n",
       "      <th>3</th>\n",
       "      <td>851</td>\n",
       "      <td>20170301</td>\n",
       "      <td>1</td>\n",
       "      <td>25168</td>\n",
       "      <td>19</td>\n",
       "      <td>81206</td>\n",
       "      <td>5</td>\n",
       "      <td>8.99</td>\n",
       "    </tr>\n",
       "    <tr>\n",
       "      <th>4</th>\n",
       "      <td>851</td>\n",
       "      <td>20170301</td>\n",
       "      <td>1</td>\n",
       "      <td>25396</td>\n",
       "      <td>19</td>\n",
       "      <td>84418</td>\n",
       "      <td>1</td>\n",
       "      <td>22.39</td>\n",
       "    </tr>\n",
       "  </tbody>\n",
       "</table>\n",
       "</div>"
      ],
      "text/plain": [
       "   Store      Date  Till  Ticket  Method   Hour  Type  Amount\n",
       "0    851  20170301     1   24461      19  90721     1   33.32\n",
       "1    851  20170301     1   24536      19  90721     5   33.32\n",
       "2    851  20170301     1   25077      19  81206     1    8.99\n",
       "3    851  20170301     1   25168      19  81206     5    8.99\n",
       "4    851  20170301     1   25396      19  84418     1   22.39"
      ]
     },
     "execution_count": 89,
     "metadata": {},
     "output_type": "execute_result"
    }
   ],
   "source": [
    "# Echamos un vistazo a las primeras filas para ver que pinta\n",
    "# tiene el dataset\n",
    "df.head()"
   ]
  },
  {
   "cell_type": "markdown",
   "metadata": {},
   "source": [
    "### 2.1. Handling Missing Data\n",
    "\n",
    "Gestionamos valores nulos que puedan existir en el dataset.\n",
    "Contamos con los siguientes métodos para la limpieza del dataset\n",
    "\n",
    "* dropna\n",
    "* fillna\n",
    "* isnull\n",
    "* notnull"
   ]
  },
  {
   "cell_type": "code",
   "execution_count": 90,
   "metadata": {},
   "outputs": [
    {
     "data": {
      "text/plain": [
       "Store     False\n",
       "Date      False\n",
       "Till      False\n",
       "Ticket    False\n",
       "Method    False\n",
       "Hour      False\n",
       "Type      False\n",
       "Amount    False\n",
       "dtype: bool"
      ]
     },
     "execution_count": 90,
     "metadata": {},
     "output_type": "execute_result"
    }
   ],
   "source": [
    "# Comprobamos si existen valores nulos en algunas de las columnas\n",
    "df.isnull().any()"
   ]
  },
  {
   "cell_type": "markdown",
   "metadata": {},
   "source": [
    "### 2.2 Data Transformation\n",
    "\n",
    "Realizamos operaciones de filtrado, limpieza y otras transformaciones sobre el dataset"
   ]
  },
  {
   "cell_type": "markdown",
   "metadata": {},
   "source": [
    "#### 2.2.1 Removing Duplicates\n",
    "\n",
    "Comprobamos si existen registros duplicados"
   ]
  },
  {
   "cell_type": "code",
   "execution_count": 91,
   "metadata": {},
   "outputs": [
    {
     "data": {
      "text/plain": [
       "True"
      ]
     },
     "execution_count": 91,
     "metadata": {},
     "output_type": "execute_result"
    }
   ],
   "source": [
    "# filtramos aquellos registros que se encuentran duplicados\n",
    "# y obtenemos el número de ellos. Utilizamos df.duplicated()\n",
    "# al cuál le podemos pasar el argumento keep para que nos devuelva\n",
    "# la información completa o sólo el registro duplicado (primero o \n",
    "# último)\n",
    "df.duplicated().any()"
   ]
  },
  {
   "cell_type": "code",
   "execution_count": 93,
   "metadata": {},
   "outputs": [
    {
     "data": {
      "text/html": [
       "<div>\n",
       "<style scoped>\n",
       "    .dataframe tbody tr th:only-of-type {\n",
       "        vertical-align: middle;\n",
       "    }\n",
       "\n",
       "    .dataframe tbody tr th {\n",
       "        vertical-align: top;\n",
       "    }\n",
       "\n",
       "    .dataframe thead th {\n",
       "        text-align: right;\n",
       "    }\n",
       "</style>\n",
       "<table border=\"1\" class=\"dataframe\">\n",
       "  <thead>\n",
       "    <tr style=\"text-align: right;\">\n",
       "      <th></th>\n",
       "      <th>Store</th>\n",
       "      <th>Date</th>\n",
       "      <th>Till</th>\n",
       "      <th>Ticket</th>\n",
       "      <th>Method</th>\n",
       "      <th>Hour</th>\n",
       "      <th>Type</th>\n",
       "      <th>Amount</th>\n",
       "    </tr>\n",
       "  </thead>\n",
       "  <tbody>\n",
       "    <tr>\n",
       "      <th>491851</th>\n",
       "      <td>7661</td>\n",
       "      <td>20170308</td>\n",
       "      <td>1</td>\n",
       "      <td>28356</td>\n",
       "      <td>1</td>\n",
       "      <td>165032</td>\n",
       "      <td>1</td>\n",
       "      <td>29.99</td>\n",
       "    </tr>\n",
       "    <tr>\n",
       "      <th>1543794</th>\n",
       "      <td>1860</td>\n",
       "      <td>20170322</td>\n",
       "      <td>2</td>\n",
       "      <td>1360</td>\n",
       "      <td>15</td>\n",
       "      <td>210145</td>\n",
       "      <td>1</td>\n",
       "      <td>19.99</td>\n",
       "    </tr>\n",
       "    <tr>\n",
       "      <th>2017396</th>\n",
       "      <td>7944</td>\n",
       "      <td>20170329</td>\n",
       "      <td>2</td>\n",
       "      <td>89</td>\n",
       "      <td>15</td>\n",
       "      <td>171136</td>\n",
       "      <td>1</td>\n",
       "      <td>7.00</td>\n",
       "    </tr>\n",
       "    <tr>\n",
       "      <th>2623324</th>\n",
       "      <td>796</td>\n",
       "      <td>20170406</td>\n",
       "      <td>3</td>\n",
       "      <td>52400</td>\n",
       "      <td>1</td>\n",
       "      <td>183058</td>\n",
       "      <td>1</td>\n",
       "      <td>17.50</td>\n",
       "    </tr>\n",
       "    <tr>\n",
       "      <th>2750262</th>\n",
       "      <td>7006</td>\n",
       "      <td>20170407</td>\n",
       "      <td>1</td>\n",
       "      <td>13026</td>\n",
       "      <td>1</td>\n",
       "      <td>181242</td>\n",
       "      <td>1</td>\n",
       "      <td>20.00</td>\n",
       "    </tr>\n",
       "  </tbody>\n",
       "</table>\n",
       "</div>"
      ],
      "text/plain": [
       "         Store      Date  Till  Ticket  Method    Hour  Type  Amount\n",
       "491851    7661  20170308     1   28356       1  165032     1   29.99\n",
       "1543794   1860  20170322     2    1360      15  210145     1   19.99\n",
       "2017396   7944  20170329     2      89      15  171136     1    7.00\n",
       "2623324    796  20170406     3   52400       1  183058     1   17.50\n",
       "2750262   7006  20170407     1   13026       1  181242     1   20.00"
      ]
     },
     "execution_count": 93,
     "metadata": {},
     "output_type": "execute_result"
    }
   ],
   "source": [
    "# echamos un vistazo a algunos de los registros duplicados\n",
    "df[df.duplicated() == True].head()"
   ]
  },
  {
   "cell_type": "code",
   "execution_count": 94,
   "metadata": {},
   "outputs": [
    {
     "data": {
      "text/plain": [
       "149"
      ]
     },
     "execution_count": 94,
     "metadata": {},
     "output_type": "execute_result"
    }
   ],
   "source": [
    "# contamos cuantos tenemos (utilizamos una columna sólo para que \n",
    "# no nos devuelva el total de todas las columnas repetidas)\n",
    "df[df.duplicated() == True]['Store'].count() "
   ]
  },
  {
   "cell_type": "code",
   "execution_count": 95,
   "metadata": {},
   "outputs": [],
   "source": [
    "# determinamos si queremos o no conservar los duplicados, en nuestro\n",
    "# caso, los vamos a eliminar del dataset\n",
    "df.drop_duplicates(inplace=True)"
   ]
  },
  {
   "cell_type": "code",
   "execution_count": 96,
   "metadata": {},
   "outputs": [
    {
     "data": {
      "text/plain": [
       "(63536592, 8)"
      ]
     },
     "execution_count": 96,
     "metadata": {},
     "output_type": "execute_result"
    }
   ],
   "source": [
    "# verificamos el tamaño del df (antes: 63536741, 8)\n",
    "df.shape "
   ]
  },
  {
   "cell_type": "markdown",
   "metadata": {},
   "source": [
    "#### 2.2.2. Transforming Data Using a Function or Mapping"
   ]
  },
  {
   "cell_type": "code",
   "execution_count": 97,
   "metadata": {},
   "outputs": [
    {
     "data": {
      "text/plain": [
       "array([1, 5])"
      ]
     },
     "execution_count": 97,
     "metadata": {},
     "output_type": "execute_result"
    }
   ],
   "source": [
    "# Determinamos los tipos de operación\n",
    "df['Type'].unique()"
   ]
  },
  {
   "cell_type": "code",
   "execution_count": 98,
   "metadata": {},
   "outputs": [],
   "source": [
    "# Para que sea más entendible, vamos a transformar los códigos en\n",
    "# dos tipos de operación: 1.- Venta, 5.- Devolucion\n",
    "# Creamos un diccionario con la correspondencia\n",
    "type_to_string = {1:'Sale', 5:'Return'}"
   ]
  },
  {
   "cell_type": "code",
   "execution_count": 99,
   "metadata": {},
   "outputs": [],
   "source": [
    "# Creamos una nueva columna a la que llamos operación y utilizamos\n",
    "# la función map para pasarle a la columna type el diccionario con \n",
    "# la correspondencia y que nos devuelva esta en la columna 'Operation'\n",
    "df['Operation'] = df['Type'].map(type_to_string) "
   ]
  },
  {
   "cell_type": "code",
   "execution_count": 100,
   "metadata": {},
   "outputs": [],
   "source": [
    "# Nos sobra ya la columna Type, por lo que podemos eliminarla del df\n",
    "df.drop(columns='Type', inplace=True)"
   ]
  },
  {
   "cell_type": "code",
   "execution_count": 101,
   "metadata": {},
   "outputs": [
    {
     "data": {
      "text/html": [
       "<div>\n",
       "<style scoped>\n",
       "    .dataframe tbody tr th:only-of-type {\n",
       "        vertical-align: middle;\n",
       "    }\n",
       "\n",
       "    .dataframe tbody tr th {\n",
       "        vertical-align: top;\n",
       "    }\n",
       "\n",
       "    .dataframe thead th {\n",
       "        text-align: right;\n",
       "    }\n",
       "</style>\n",
       "<table border=\"1\" class=\"dataframe\">\n",
       "  <thead>\n",
       "    <tr style=\"text-align: right;\">\n",
       "      <th></th>\n",
       "      <th>Store</th>\n",
       "      <th>Date</th>\n",
       "      <th>Till</th>\n",
       "      <th>Ticket</th>\n",
       "      <th>Method</th>\n",
       "      <th>Hour</th>\n",
       "      <th>Amount</th>\n",
       "      <th>Operation</th>\n",
       "    </tr>\n",
       "  </thead>\n",
       "  <tbody>\n",
       "    <tr>\n",
       "      <th>0</th>\n",
       "      <td>851</td>\n",
       "      <td>20170301</td>\n",
       "      <td>1</td>\n",
       "      <td>24461</td>\n",
       "      <td>19</td>\n",
       "      <td>90721</td>\n",
       "      <td>33.32</td>\n",
       "      <td>Sale</td>\n",
       "    </tr>\n",
       "    <tr>\n",
       "      <th>1</th>\n",
       "      <td>851</td>\n",
       "      <td>20170301</td>\n",
       "      <td>1</td>\n",
       "      <td>24536</td>\n",
       "      <td>19</td>\n",
       "      <td>90721</td>\n",
       "      <td>33.32</td>\n",
       "      <td>Return</td>\n",
       "    </tr>\n",
       "    <tr>\n",
       "      <th>2</th>\n",
       "      <td>851</td>\n",
       "      <td>20170301</td>\n",
       "      <td>1</td>\n",
       "      <td>25077</td>\n",
       "      <td>19</td>\n",
       "      <td>81206</td>\n",
       "      <td>8.99</td>\n",
       "      <td>Sale</td>\n",
       "    </tr>\n",
       "    <tr>\n",
       "      <th>3</th>\n",
       "      <td>851</td>\n",
       "      <td>20170301</td>\n",
       "      <td>1</td>\n",
       "      <td>25168</td>\n",
       "      <td>19</td>\n",
       "      <td>81206</td>\n",
       "      <td>8.99</td>\n",
       "      <td>Return</td>\n",
       "    </tr>\n",
       "    <tr>\n",
       "      <th>4</th>\n",
       "      <td>851</td>\n",
       "      <td>20170301</td>\n",
       "      <td>1</td>\n",
       "      <td>25396</td>\n",
       "      <td>19</td>\n",
       "      <td>84418</td>\n",
       "      <td>22.39</td>\n",
       "      <td>Sale</td>\n",
       "    </tr>\n",
       "  </tbody>\n",
       "</table>\n",
       "</div>"
      ],
      "text/plain": [
       "   Store      Date  Till  Ticket  Method   Hour  Amount Operation\n",
       "0    851  20170301     1   24461      19  90721   33.32      Sale\n",
       "1    851  20170301     1   24536      19  90721   33.32    Return\n",
       "2    851  20170301     1   25077      19  81206    8.99      Sale\n",
       "3    851  20170301     1   25168      19  81206    8.99    Return\n",
       "4    851  20170301     1   25396      19  84418   22.39      Sale"
      ]
     },
     "execution_count": 101,
     "metadata": {},
     "output_type": "execute_result"
    }
   ],
   "source": [
    "df.head()"
   ]
  },
  {
   "cell_type": "code",
   "execution_count": 102,
   "metadata": {},
   "outputs": [
    {
     "data": {
      "text/plain": [
       "array([19,  6, 14,  8, 17,  1,  9, 15,  5, 10, 18,  7,  2, 20,  3])"
      ]
     },
     "execution_count": 102,
     "metadata": {},
     "output_type": "execute_result"
    }
   ],
   "source": [
    "# Revisamos el campo de Método de Pago\n",
    "df['Method'].unique()"
   ]
  },
  {
   "cell_type": "code",
   "execution_count": 103,
   "metadata": {},
   "outputs": [],
   "source": [
    "# Para que sea más entendible, vamos a transformar los métodos de pago\n",
    "# en texto. A diferencia  de con el tipo, aquí disponemos de una tabla\n",
    "# la descripción de cada una de las formas de pago, así que vamos a \n",
    "# usarla para ello haciendo un join más adelante"
   ]
  },
  {
   "cell_type": "code",
   "execution_count": 104,
   "metadata": {},
   "outputs": [],
   "source": [
    "# El campo Amount vamos a ponerlo en negativo cuando se trate\n",
    "# de una operación de devolución\n",
    "#  -  filtramos aquellas operaciones de devolución, devolviendo la \n",
    "#     columna 'Amount' : df.loc[df['Operation'] == 'Return', 'Amount']\n",
    "#  -  modificamos el valor con \"map\" aplicando una función lambda para \n",
    "#     multiplicar * -1 : .map(lambda x: x * -1)\n",
    "df.loc[df['Operation'] == 'Return', 'Amount'] = df.loc[df['Operation'] == 'Return', 'Amount'].map(lambda x: x * -1)"
   ]
  },
  {
   "cell_type": "code",
   "execution_count": 105,
   "metadata": {},
   "outputs": [
    {
     "data": {
      "text/html": [
       "<div>\n",
       "<style scoped>\n",
       "    .dataframe tbody tr th:only-of-type {\n",
       "        vertical-align: middle;\n",
       "    }\n",
       "\n",
       "    .dataframe tbody tr th {\n",
       "        vertical-align: top;\n",
       "    }\n",
       "\n",
       "    .dataframe thead th {\n",
       "        text-align: right;\n",
       "    }\n",
       "</style>\n",
       "<table border=\"1\" class=\"dataframe\">\n",
       "  <thead>\n",
       "    <tr style=\"text-align: right;\">\n",
       "      <th></th>\n",
       "      <th>Store</th>\n",
       "      <th>Date</th>\n",
       "      <th>Till</th>\n",
       "      <th>Ticket</th>\n",
       "      <th>Method</th>\n",
       "      <th>Hour</th>\n",
       "      <th>Amount</th>\n",
       "      <th>Operation</th>\n",
       "    </tr>\n",
       "  </thead>\n",
       "  <tbody>\n",
       "    <tr>\n",
       "      <th>0</th>\n",
       "      <td>851</td>\n",
       "      <td>20170301</td>\n",
       "      <td>1</td>\n",
       "      <td>24461</td>\n",
       "      <td>19</td>\n",
       "      <td>90721</td>\n",
       "      <td>33.32</td>\n",
       "      <td>Sale</td>\n",
       "    </tr>\n",
       "    <tr>\n",
       "      <th>1</th>\n",
       "      <td>851</td>\n",
       "      <td>20170301</td>\n",
       "      <td>1</td>\n",
       "      <td>24536</td>\n",
       "      <td>19</td>\n",
       "      <td>90721</td>\n",
       "      <td>-33.32</td>\n",
       "      <td>Return</td>\n",
       "    </tr>\n",
       "    <tr>\n",
       "      <th>2</th>\n",
       "      <td>851</td>\n",
       "      <td>20170301</td>\n",
       "      <td>1</td>\n",
       "      <td>25077</td>\n",
       "      <td>19</td>\n",
       "      <td>81206</td>\n",
       "      <td>8.99</td>\n",
       "      <td>Sale</td>\n",
       "    </tr>\n",
       "    <tr>\n",
       "      <th>3</th>\n",
       "      <td>851</td>\n",
       "      <td>20170301</td>\n",
       "      <td>1</td>\n",
       "      <td>25168</td>\n",
       "      <td>19</td>\n",
       "      <td>81206</td>\n",
       "      <td>-8.99</td>\n",
       "      <td>Return</td>\n",
       "    </tr>\n",
       "    <tr>\n",
       "      <th>4</th>\n",
       "      <td>851</td>\n",
       "      <td>20170301</td>\n",
       "      <td>1</td>\n",
       "      <td>25396</td>\n",
       "      <td>19</td>\n",
       "      <td>84418</td>\n",
       "      <td>22.39</td>\n",
       "      <td>Sale</td>\n",
       "    </tr>\n",
       "    <tr>\n",
       "      <th>5</th>\n",
       "      <td>851</td>\n",
       "      <td>20170301</td>\n",
       "      <td>1</td>\n",
       "      <td>25401</td>\n",
       "      <td>19</td>\n",
       "      <td>84418</td>\n",
       "      <td>-22.39</td>\n",
       "      <td>Return</td>\n",
       "    </tr>\n",
       "    <tr>\n",
       "      <th>6</th>\n",
       "      <td>851</td>\n",
       "      <td>20170301</td>\n",
       "      <td>1</td>\n",
       "      <td>26045</td>\n",
       "      <td>19</td>\n",
       "      <td>80854</td>\n",
       "      <td>-20.99</td>\n",
       "      <td>Return</td>\n",
       "    </tr>\n",
       "    <tr>\n",
       "      <th>7</th>\n",
       "      <td>851</td>\n",
       "      <td>20170301</td>\n",
       "      <td>1</td>\n",
       "      <td>26138</td>\n",
       "      <td>19</td>\n",
       "      <td>80854</td>\n",
       "      <td>20.99</td>\n",
       "      <td>Sale</td>\n",
       "    </tr>\n",
       "    <tr>\n",
       "      <th>8</th>\n",
       "      <td>851</td>\n",
       "      <td>20170301</td>\n",
       "      <td>1</td>\n",
       "      <td>26540</td>\n",
       "      <td>19</td>\n",
       "      <td>72725</td>\n",
       "      <td>34.98</td>\n",
       "      <td>Sale</td>\n",
       "    </tr>\n",
       "    <tr>\n",
       "      <th>9</th>\n",
       "      <td>851</td>\n",
       "      <td>20170301</td>\n",
       "      <td>1</td>\n",
       "      <td>26591</td>\n",
       "      <td>19</td>\n",
       "      <td>70244</td>\n",
       "      <td>19.99</td>\n",
       "      <td>Sale</td>\n",
       "    </tr>\n",
       "  </tbody>\n",
       "</table>\n",
       "</div>"
      ],
      "text/plain": [
       "   Store      Date  Till  Ticket  Method   Hour  Amount Operation\n",
       "0    851  20170301     1   24461      19  90721   33.32      Sale\n",
       "1    851  20170301     1   24536      19  90721  -33.32    Return\n",
       "2    851  20170301     1   25077      19  81206    8.99      Sale\n",
       "3    851  20170301     1   25168      19  81206   -8.99    Return\n",
       "4    851  20170301     1   25396      19  84418   22.39      Sale\n",
       "5    851  20170301     1   25401      19  84418  -22.39    Return\n",
       "6    851  20170301     1   26045      19  80854  -20.99    Return\n",
       "7    851  20170301     1   26138      19  80854   20.99      Sale\n",
       "8    851  20170301     1   26540      19  72725   34.98      Sale\n",
       "9    851  20170301     1   26591      19  70244   19.99      Sale"
      ]
     },
     "execution_count": 105,
     "metadata": {},
     "output_type": "execute_result"
    }
   ],
   "source": [
    "# Ya tenemos los importes de las devoluciones en negativo\n",
    "df.head(10)"
   ]
  },
  {
   "cell_type": "markdown",
   "metadata": {},
   "source": [
    "#### 2.2.3. Date columns\n",
    "\n",
    "Vamos a transformar las columnas de fecha y hora, a Series de tipo TimeStamp para faciliar su manejo"
   ]
  },
  {
   "cell_type": "code",
   "execution_count": null,
   "metadata": {},
   "outputs": [],
   "source": [
    "# Convertimos el campo Date en uno TimeStamp\n",
    "df['Date'] = pd.to_datetime(df['Date'], format='%Y%m%d')"
   ]
  },
  {
   "cell_type": "code",
   "execution_count": 77,
   "metadata": {},
   "outputs": [
    {
     "data": {
      "text/plain": [
       "count                63536592\n",
       "unique                    526\n",
       "top       2018-01-04 00:00:00\n",
       "freq                   362146\n",
       "first     2017-03-01 00:00:00\n",
       "last      2018-08-08 00:00:00\n",
       "Name: Date, dtype: object"
      ]
     },
     "execution_count": 77,
     "metadata": {},
     "output_type": "execute_result"
    }
   ],
   "source": [
    "df['Date'].describe()"
   ]
  },
  {
   "cell_type": "code",
   "execution_count": 79,
   "metadata": {},
   "outputs": [
    {
     "data": {
      "text/html": [
       "<div>\n",
       "<style scoped>\n",
       "    .dataframe tbody tr th:only-of-type {\n",
       "        vertical-align: middle;\n",
       "    }\n",
       "\n",
       "    .dataframe tbody tr th {\n",
       "        vertical-align: top;\n",
       "    }\n",
       "\n",
       "    .dataframe thead th {\n",
       "        text-align: right;\n",
       "    }\n",
       "</style>\n",
       "<table border=\"1\" class=\"dataframe\">\n",
       "  <thead>\n",
       "    <tr style=\"text-align: right;\">\n",
       "      <th></th>\n",
       "      <th>Store</th>\n",
       "      <th>Date</th>\n",
       "      <th>Till</th>\n",
       "      <th>Ticket</th>\n",
       "      <th>Method</th>\n",
       "      <th>Hour</th>\n",
       "      <th>Amount</th>\n",
       "      <th>Operation</th>\n",
       "    </tr>\n",
       "  </thead>\n",
       "  <tbody>\n",
       "    <tr>\n",
       "      <th>0</th>\n",
       "      <td>851</td>\n",
       "      <td>2017-03-01</td>\n",
       "      <td>1</td>\n",
       "      <td>24461</td>\n",
       "      <td>19</td>\n",
       "      <td>90721</td>\n",
       "      <td>33.32</td>\n",
       "      <td>Sale</td>\n",
       "    </tr>\n",
       "    <tr>\n",
       "      <th>1</th>\n",
       "      <td>851</td>\n",
       "      <td>2017-03-01</td>\n",
       "      <td>1</td>\n",
       "      <td>24536</td>\n",
       "      <td>19</td>\n",
       "      <td>90721</td>\n",
       "      <td>-33.32</td>\n",
       "      <td>Return</td>\n",
       "    </tr>\n",
       "    <tr>\n",
       "      <th>2</th>\n",
       "      <td>851</td>\n",
       "      <td>2017-03-01</td>\n",
       "      <td>1</td>\n",
       "      <td>25077</td>\n",
       "      <td>19</td>\n",
       "      <td>81206</td>\n",
       "      <td>8.99</td>\n",
       "      <td>Sale</td>\n",
       "    </tr>\n",
       "    <tr>\n",
       "      <th>3</th>\n",
       "      <td>851</td>\n",
       "      <td>2017-03-01</td>\n",
       "      <td>1</td>\n",
       "      <td>25168</td>\n",
       "      <td>19</td>\n",
       "      <td>81206</td>\n",
       "      <td>-8.99</td>\n",
       "      <td>Return</td>\n",
       "    </tr>\n",
       "    <tr>\n",
       "      <th>4</th>\n",
       "      <td>851</td>\n",
       "      <td>2017-03-01</td>\n",
       "      <td>1</td>\n",
       "      <td>25396</td>\n",
       "      <td>19</td>\n",
       "      <td>84418</td>\n",
       "      <td>22.39</td>\n",
       "      <td>Sale</td>\n",
       "    </tr>\n",
       "  </tbody>\n",
       "</table>\n",
       "</div>"
      ],
      "text/plain": [
       "   Store       Date  Till  Ticket  Method   Hour  Amount Operation\n",
       "0    851 2017-03-01     1   24461      19  90721   33.32      Sale\n",
       "1    851 2017-03-01     1   24536      19  90721  -33.32    Return\n",
       "2    851 2017-03-01     1   25077      19  81206    8.99      Sale\n",
       "3    851 2017-03-01     1   25168      19  81206   -8.99    Return\n",
       "4    851 2017-03-01     1   25396      19  84418   22.39      Sale"
      ]
     },
     "execution_count": 79,
     "metadata": {},
     "output_type": "execute_result"
    }
   ],
   "source": [
    "# echamos un vistazo al df\n",
    "df.head()"
   ]
  },
  {
   "cell_type": "code",
   "execution_count": 81,
   "metadata": {},
   "outputs": [
    {
     "data": {
      "text/plain": [
       "count    6.353659e+07\n",
       "mean     1.607768e+05\n",
       "std      3.445439e+04\n",
       "min      0.000000e+00\n",
       "25%      1.311530e+05\n",
       "50%      1.638310e+05\n",
       "75%      1.915380e+05\n",
       "max      4.758250e+05\n",
       "Name: Hour, dtype: float64"
      ]
     },
     "execution_count": 81,
     "metadata": {},
     "output_type": "execute_result"
    }
   ],
   "source": [
    "df['Hour'].describe()"
   ]
  },
  {
   "cell_type": "code",
   "execution_count": 82,
   "metadata": {},
   "outputs": [
    {
     "ename": "ValueError",
     "evalue": "time data 52 does not match format '%H%M%S' (match)",
     "output_type": "error",
     "traceback": [
      "\u001b[0;31m---------------------------------------------------------------------------\u001b[0m",
      "\u001b[0;31mTypeError\u001b[0m                                 Traceback (most recent call last)",
      "\u001b[0;32m~/anaconda3/lib/python3.6/site-packages/pandas/core/tools/datetimes.py\u001b[0m in \u001b[0;36m_convert_listlike\u001b[0;34m(arg, box, format, name, tz)\u001b[0m\n\u001b[1;32m    376\u001b[0m             \u001b[0;32mtry\u001b[0m\u001b[0;34m:\u001b[0m\u001b[0;34m\u001b[0m\u001b[0m\n\u001b[0;32m--> 377\u001b[0;31m                 \u001b[0mvalues\u001b[0m\u001b[0;34m,\u001b[0m \u001b[0mtz\u001b[0m \u001b[0;34m=\u001b[0m \u001b[0mconversion\u001b[0m\u001b[0;34m.\u001b[0m\u001b[0mdatetime_to_datetime64\u001b[0m\u001b[0;34m(\u001b[0m\u001b[0marg\u001b[0m\u001b[0;34m)\u001b[0m\u001b[0;34m\u001b[0m\u001b[0m\n\u001b[0m\u001b[1;32m    378\u001b[0m                 \u001b[0;32mreturn\u001b[0m \u001b[0mDatetimeIndex\u001b[0m\u001b[0;34m.\u001b[0m\u001b[0m_simple_new\u001b[0m\u001b[0;34m(\u001b[0m\u001b[0mvalues\u001b[0m\u001b[0;34m,\u001b[0m \u001b[0mname\u001b[0m\u001b[0;34m=\u001b[0m\u001b[0mname\u001b[0m\u001b[0;34m,\u001b[0m \u001b[0mtz\u001b[0m\u001b[0;34m=\u001b[0m\u001b[0mtz\u001b[0m\u001b[0;34m)\u001b[0m\u001b[0;34m\u001b[0m\u001b[0m\n",
      "\u001b[0;32mpandas/_libs/tslibs/conversion.pyx\u001b[0m in \u001b[0;36mpandas._libs.tslibs.conversion.datetime_to_datetime64\u001b[0;34m()\u001b[0m\n",
      "\u001b[0;31mTypeError\u001b[0m: Unrecognized value type: <class 'int'>",
      "\nDuring handling of the above exception, another exception occurred:\n",
      "\u001b[0;31mValueError\u001b[0m                                Traceback (most recent call last)",
      "\u001b[0;32m<ipython-input-82-c6425a287a48>\u001b[0m in \u001b[0;36m<module>\u001b[0;34m()\u001b[0m\n\u001b[0;32m----> 1\u001b[0;31m \u001b[0mpd\u001b[0m\u001b[0;34m.\u001b[0m\u001b[0mto_datetime\u001b[0m\u001b[0;34m(\u001b[0m\u001b[0mdf\u001b[0m\u001b[0;34m[\u001b[0m\u001b[0;34m'Hour'\u001b[0m\u001b[0;34m]\u001b[0m\u001b[0;34m,\u001b[0m \u001b[0mformat\u001b[0m\u001b[0;34m=\u001b[0m\u001b[0;34m'%H%M%S'\u001b[0m\u001b[0;34m)\u001b[0m\u001b[0;34m\u001b[0m\u001b[0m\n\u001b[0m",
      "\u001b[0;32m~/anaconda3/lib/python3.6/site-packages/pandas/core/tools/datetimes.py\u001b[0m in \u001b[0;36mto_datetime\u001b[0;34m(arg, errors, dayfirst, yearfirst, utc, box, format, exact, unit, infer_datetime_format, origin, cache)\u001b[0m\n\u001b[1;32m    449\u001b[0m         \u001b[0;32melse\u001b[0m\u001b[0;34m:\u001b[0m\u001b[0;34m\u001b[0m\u001b[0m\n\u001b[1;32m    450\u001b[0m             \u001b[0;32mfrom\u001b[0m \u001b[0mpandas\u001b[0m \u001b[0;32mimport\u001b[0m \u001b[0mSeries\u001b[0m\u001b[0;34m\u001b[0m\u001b[0m\n\u001b[0;32m--> 451\u001b[0;31m             \u001b[0mvalues\u001b[0m \u001b[0;34m=\u001b[0m \u001b[0m_convert_listlike\u001b[0m\u001b[0;34m(\u001b[0m\u001b[0marg\u001b[0m\u001b[0;34m.\u001b[0m\u001b[0m_values\u001b[0m\u001b[0;34m,\u001b[0m \u001b[0;32mTrue\u001b[0m\u001b[0;34m,\u001b[0m \u001b[0mformat\u001b[0m\u001b[0;34m)\u001b[0m\u001b[0;34m\u001b[0m\u001b[0m\n\u001b[0m\u001b[1;32m    452\u001b[0m             \u001b[0mresult\u001b[0m \u001b[0;34m=\u001b[0m \u001b[0mSeries\u001b[0m\u001b[0;34m(\u001b[0m\u001b[0mvalues\u001b[0m\u001b[0;34m,\u001b[0m \u001b[0mindex\u001b[0m\u001b[0;34m=\u001b[0m\u001b[0marg\u001b[0m\u001b[0;34m.\u001b[0m\u001b[0mindex\u001b[0m\u001b[0;34m,\u001b[0m \u001b[0mname\u001b[0m\u001b[0;34m=\u001b[0m\u001b[0marg\u001b[0m\u001b[0;34m.\u001b[0m\u001b[0mname\u001b[0m\u001b[0;34m)\u001b[0m\u001b[0;34m\u001b[0m\u001b[0m\n\u001b[1;32m    453\u001b[0m     \u001b[0;32melif\u001b[0m \u001b[0misinstance\u001b[0m\u001b[0;34m(\u001b[0m\u001b[0marg\u001b[0m\u001b[0;34m,\u001b[0m \u001b[0;34m(\u001b[0m\u001b[0mABCDataFrame\u001b[0m\u001b[0;34m,\u001b[0m \u001b[0mMutableMapping\u001b[0m\u001b[0;34m)\u001b[0m\u001b[0;34m)\u001b[0m\u001b[0;34m:\u001b[0m\u001b[0;34m\u001b[0m\u001b[0m\n",
      "\u001b[0;32m~/anaconda3/lib/python3.6/site-packages/pandas/core/tools/datetimes.py\u001b[0m in \u001b[0;36m_convert_listlike\u001b[0;34m(arg, box, format, name, tz)\u001b[0m\n\u001b[1;32m    378\u001b[0m                 \u001b[0;32mreturn\u001b[0m \u001b[0mDatetimeIndex\u001b[0m\u001b[0;34m.\u001b[0m\u001b[0m_simple_new\u001b[0m\u001b[0;34m(\u001b[0m\u001b[0mvalues\u001b[0m\u001b[0;34m,\u001b[0m \u001b[0mname\u001b[0m\u001b[0;34m=\u001b[0m\u001b[0mname\u001b[0m\u001b[0;34m,\u001b[0m \u001b[0mtz\u001b[0m\u001b[0;34m=\u001b[0m\u001b[0mtz\u001b[0m\u001b[0;34m)\u001b[0m\u001b[0;34m\u001b[0m\u001b[0m\n\u001b[1;32m    379\u001b[0m             \u001b[0;32mexcept\u001b[0m \u001b[0;34m(\u001b[0m\u001b[0mValueError\u001b[0m\u001b[0;34m,\u001b[0m \u001b[0mTypeError\u001b[0m\u001b[0;34m)\u001b[0m\u001b[0;34m:\u001b[0m\u001b[0;34m\u001b[0m\u001b[0m\n\u001b[0;32m--> 380\u001b[0;31m                 \u001b[0;32mraise\u001b[0m \u001b[0me\u001b[0m\u001b[0;34m\u001b[0m\u001b[0m\n\u001b[0m\u001b[1;32m    381\u001b[0m \u001b[0;34m\u001b[0m\u001b[0m\n\u001b[1;32m    382\u001b[0m     \u001b[0;32mif\u001b[0m \u001b[0marg\u001b[0m \u001b[0;32mis\u001b[0m \u001b[0;32mNone\u001b[0m\u001b[0;34m:\u001b[0m\u001b[0;34m\u001b[0m\u001b[0m\n",
      "\u001b[0;32m~/anaconda3/lib/python3.6/site-packages/pandas/core/tools/datetimes.py\u001b[0m in \u001b[0;36m_convert_listlike\u001b[0;34m(arg, box, format, name, tz)\u001b[0m\n\u001b[1;32m    345\u001b[0m                     \u001b[0;32mtry\u001b[0m\u001b[0;34m:\u001b[0m\u001b[0;34m\u001b[0m\u001b[0m\n\u001b[1;32m    346\u001b[0m                         result = array_strptime(arg, format, exact=exact,\n\u001b[0;32m--> 347\u001b[0;31m                                                 errors=errors)\n\u001b[0m\u001b[1;32m    348\u001b[0m                     \u001b[0;32mexcept\u001b[0m \u001b[0mtslib\u001b[0m\u001b[0;34m.\u001b[0m\u001b[0mOutOfBoundsDatetime\u001b[0m\u001b[0;34m:\u001b[0m\u001b[0;34m\u001b[0m\u001b[0m\n\u001b[1;32m    349\u001b[0m                         \u001b[0;32mif\u001b[0m \u001b[0merrors\u001b[0m \u001b[0;34m==\u001b[0m \u001b[0;34m'raise'\u001b[0m\u001b[0;34m:\u001b[0m\u001b[0;34m\u001b[0m\u001b[0m\n",
      "\u001b[0;32mpandas/_libs/tslibs/strptime.pyx\u001b[0m in \u001b[0;36mpandas._libs.tslibs.strptime.array_strptime\u001b[0;34m()\u001b[0m\n",
      "\u001b[0;31mValueError\u001b[0m: time data 52 does not match format '%H%M%S' (match)"
     ]
    }
   ],
   "source": [
    "pd.to_datetime(df['Hour'], format='%H%M%S')"
   ]
  },
  {
   "cell_type": "code",
   "execution_count": 83,
   "metadata": {},
   "outputs": [
    {
     "data": {
      "text/plain": [
       "Store                        851\n",
       "Date         2017-03-01 00:00:00\n",
       "Till                           1\n",
       "Ticket                     31215\n",
       "Method                         6\n",
       "Hour                      102739\n",
       "Amount                     49.98\n",
       "Operation                   Sale\n",
       "Name: 52, dtype: object"
      ]
     },
     "execution_count": 83,
     "metadata": {},
     "output_type": "execute_result"
    }
   ],
   "source": [
    "df.iloc[52]"
   ]
  },
  {
   "cell_type": "code",
   "execution_count": null,
   "metadata": {},
   "outputs": [],
   "source": []
  }
 ],
 "metadata": {
  "kernelspec": {
   "display_name": "Python 3",
   "language": "python",
   "name": "python3"
  },
  "language_info": {
   "codemirror_mode": {
    "name": "ipython",
    "version": 3
   },
   "file_extension": ".py",
   "mimetype": "text/x-python",
   "name": "python",
   "nbconvert_exporter": "python",
   "pygments_lexer": "ipython3",
   "version": "3.6.6"
  }
 },
 "nbformat": 4,
 "nbformat_minor": 2
}
