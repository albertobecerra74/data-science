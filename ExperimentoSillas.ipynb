{
 "cells": [
  {
   "cell_type": "code",
   "execution_count": 39,
   "metadata": {},
   "outputs": [],
   "source": [
    "import random\n",
    "import seaborn as sns"
   ]
  },
  {
   "cell_type": "code",
   "execution_count": 40,
   "metadata": {},
   "outputs": [],
   "source": [
    "# Constantes\n",
    "\n",
    "# Valores del diccionario\n",
    "SITIO_INICIAL = 'Inicial'\n",
    "SITIO_ASIGNADO = 'Asignado'\n",
    "ORDEN_LLEGADA = 'Orden'\n",
    "\n",
    "# Alumnos primero y último en llegar\n",
    "PRIMERO = \"Isabel\"\n",
    "ULTIMO = \"Ramón\"\n"
   ]
  },
  {
   "cell_type": "code",
   "execution_count": 41,
   "metadata": {},
   "outputs": [],
   "source": [
    "# creamos una lista con los alumnos\n",
    "def crear_alumnos(numero):\n",
    "    alumnosn = []\n",
    "    alumnosn = [str(n) for n in range(numero - 2)]\n",
    "    \n",
    "    alumnosn.append(PRIMERO)\n",
    "    alumnosn.append(ULTIMO)\n",
    "    \n",
    "    #alumnosn = [\"Maria\", \"Pedro\", \"Alfredo\", \"Isabel\", \"Ramon\", \"Pilar\", \"Jorge\",\"Rosa\", \"Elena\",  \\\n",
    "    #           \"Antonia\", \"Marta\", \"Daniel\", \"Francisco\" ,\"Josefa\" ,\"Aurora\"]\n",
    "    \n",
    "    return alumnosn\n"
   ]
  },
  {
   "cell_type": "code",
   "execution_count": 42,
   "metadata": {},
   "outputs": [],
   "source": [
    "# creamos una lista con el número de sitios\n",
    "def crear_sitios(numero):\n",
    "    sitiosn = [n for n in range(numero)]\n",
    "    \n",
    "    return sitiosn"
   ]
  },
  {
   "cell_type": "code",
   "execution_count": 43,
   "metadata": {},
   "outputs": [],
   "source": [
    "# asignamos los alumnos a los sitios de forma aleatoria\n",
    "def asignar_sitios(alumnos, sitios):\n",
    "    # diccionario {alumno: {sitio inicial, orden llegada, sitio escogido}}\n",
    "    alumnossitiosn = {}\n",
    "    \n",
    "    # creamos una copia de los sitios, para no alterarla\n",
    "    sitiost = sitios[:]\n",
    "\n",
    "    # para cada alumno, elegimos un puesto y lo guardamos en un diccionario\n",
    "    for a in alumnos:\n",
    "        # elegimos el puesto al azar\n",
    "        sitio = random.choice(sitiost)\n",
    "        # eliminamos el puesto tratado - validar que no existan duplicados antes\n",
    "        sitiost.remove(sitio)\n",
    "        \n",
    "        # actualizamos el diccionario\n",
    "        sitiosorden = {}\n",
    "       \n",
    "        sitiosorden[SITIO_INICIAL] = sitio        \n",
    "        sitiosorden[ORDEN_LLEGADA] = 0  \n",
    "        sitiosorden[SITIO_ASIGNADO] = 0  \n",
    "\n",
    "        alumnossitiosn[a] = sitiosorden\n",
    "    \n",
    "    # retornamos el diccionario\n",
    "    return alumnossitiosn\n"
   ]
  },
  {
   "cell_type": "code",
   "execution_count": 44,
   "metadata": {},
   "outputs": [],
   "source": [
    "# Registramos la asistencia de los alumnos a la clase\n",
    "def registrar_asistencia(alumnos, sitios, alumnossitios):\n",
    "    # Alumnos matriculados\n",
    "    alumnosmatriculados = alumnos[:]\n",
    "\n",
    "    # Sitios disponibles\n",
    "    sitiosdisponibles = sitios[:]\n",
    "\n",
    "    # Orden de llegada\n",
    "    ordendellegada = 0\n",
    "\n",
    "    # Primero vamos a registrar la llegada de los alumnos, y posteriormente\n",
    "    # aplicamos el algoritmo de búsqueda de sitio, así queda más sencillo\n",
    "    # si necesitamos registrarlos según van llegando, habria que modificarlo\n",
    "    \n",
    "    \n",
    "    # Registra la llegada de los alumnos\n",
    "    alumnosregistrados = registrar_llegada(alumnosmatriculados)\n",
    "       \n",
    "    # Vamos colocando a los alumnos según han llegado en la lista\n",
    "    for alumno in alumnosregistrados:\n",
    "        # buscamos el sitio inicial del alumno\n",
    "        sitioinicial = alumnossitios[alumno][SITIO_INICIAL]\n",
    "    \n",
    "        # en el caso del primer alumno, siempre elegimos al azar, sin buscar\n",
    "        # previamente su sitio\n",
    "        if alumno == PRIMERO:\n",
    "            buscasusitio = False\n",
    "        else:\n",
    "            buscasusitio = True\n",
    "        \n",
    "        sitioselecccionado = buscar_sitio(sitioinicial, sitiosdisponibles, buscasusitio)\n",
    "\n",
    "        # actualizamos la llegada del alumno\n",
    "        alumnossitios[alumno][ORDEN_LLEGADA] = ordendellegada\n",
    "        alumnossitios[alumno][SITIO_ASIGNADO] = sitioselecccionado\n",
    "    \n",
    "        # eliminamos el sitio elegido\n",
    "        sitiosdisponibles.remove(sitioselecccionado)\n",
    "        \n",
    "        # actualizamos el orden de llegada\n",
    "        ordendellegada += 1\n",
    "        "
   ]
  },
  {
   "cell_type": "code",
   "execution_count": 45,
   "metadata": {},
   "outputs": [],
   "source": [
    "def registrar_llegada(alumnosmatriculados):\n",
    "    # Lista con el orden de llegada de los alumnos\n",
    "    alumnosr = []\n",
    "    \n",
    "    # Pool de alumnos a calcular, eliminando el primero y el último que son fijos\n",
    "    alumnosacalcular = alumnosmatriculados[:]\n",
    "    alumnosacalcular.remove(PRIMERO)\n",
    "    alumnosacalcular.remove(ULTIMO)\n",
    "    \n",
    "    # Registramos al primer alumno\n",
    "    alumnosr.append(PRIMERO)\n",
    "    \n",
    "    # Registramos al resto de alumnos por sorteo\n",
    "    existenalumnos = True\n",
    "    \n",
    "    while existenalumnos:\n",
    "        alumnosorteado = random.choice(alumnosacalcular)\n",
    "        alumnosr.append(alumnosorteado)\n",
    "        alumnosacalcular.remove(alumnosorteado)\n",
    "    \n",
    "        if len(alumnosacalcular) == 0:\n",
    "            existenalumnos = False\n",
    "    \n",
    "    \n",
    "    # Registramos al último alumno\n",
    "    alumnosr.append(ULTIMO)\n",
    "    \n",
    "    # Devolvemos la lista con los alumnos registrados por orden de llegada\n",
    "    return alumnosr \n",
    "    "
   ]
  },
  {
   "cell_type": "code",
   "execution_count": 46,
   "metadata": {},
   "outputs": [],
   "source": [
    "def buscar_sitio(sitioinicial, sitiosdisponibles, buscasusitio):\n",
    "    # sitio inicial\n",
    "    sitioe = 0\n",
    "    \n",
    "    # si el puesto está disponible, lo seleccionamos\n",
    "    if sitioinicial in sitiosdisponibles and buscasusitio:\n",
    "        sitioe = sitioinicial\n",
    "\n",
    "    # si el puesto no está disponible, elegimos un de los disponibles al azar\n",
    "    else:\n",
    "        sitioe = random.choice(sitiosdisponibles)        \n",
    "    \n",
    "    return sitioe\n"
   ]
  },
  {
   "cell_type": "code",
   "execution_count": 47,
   "metadata": {},
   "outputs": [],
   "source": [
    "\"\"\" \n",
    "    Experimento: para un número de alumnos predefinidos, que tienen un sitio preestablecido, siempre existe \n",
    "    uno que llega el primero y otro el último. El primero que llega se sienta donde le parece y el resto,  \n",
    "    según van llegando, intentan sentarse en su sitio, y si esta ocupado, se sientan en otro al azar. \n",
    "    \n",
    "    El último siempre se sienta en el sitio que queda libre. Si el sitio libre es el suyo preestablecido,\n",
    "    lo consideramos un acierto\n",
    "    \n",
    "    Registramos 100 asistencias a clase y retornamos aciertos/asistencias\n",
    "    \n",
    "\"\"\"\n",
    "\n",
    "def experimento():\n",
    "    # Número de alumnos\n",
    "    numeroalumnos = 15\n",
    "\n",
    "    # Asistencias a registrar\n",
    "    asistencias  = 100\n",
    "    \n",
    "    # Creamos los alumnos\n",
    "    alumnos = crear_alumnos(numeroalumnos)\n",
    "\n",
    "    # Creamos los sitios\n",
    "    sitios = crear_sitios(numeroalumnos)\n",
    "\n",
    "    # Asignamos sitios iniciales a los alumnos\n",
    "    alumnossitios = asignar_sitios(alumnos, sitios)\n",
    "    \n",
    "    # Aciertos sobre si el último se sienta en su sitio\n",
    "    aciertos = 0\n",
    "    \n",
    "    # Registramos las asistencias a clase\n",
    "    for a in range(asistencias):\n",
    "        # Asistencia\n",
    "        registrar_asistencia(alumnos, sitios, alumnossitios)        \n",
    "\n",
    "        # Comprobamos si el último se ha ha sentado en su sitio inicial\n",
    "        if alumnossitios[ULTIMO][SITIO_INICIAL] == alumnossitios[ULTIMO][SITIO_ASIGNADO]:\n",
    "            aciertos += 1\n",
    "\n",
    "    # Retornamos aciertos/asistencias\n",
    "    return aciertos/asistencias\n"
   ]
  },
  {
   "cell_type": "code",
   "execution_count": 48,
   "metadata": {},
   "outputs": [],
   "source": [
    "# Lanzamos el experimento N veces para comprobar su estabilidad\n",
    "experimentos = [experimento() for n in range(200)]"
   ]
  },
  {
   "cell_type": "code",
   "execution_count": 49,
   "metadata": {},
   "outputs": [
    {
     "name": "stderr",
     "output_type": "stream",
     "text": [
      "/home/alberto/anaconda3/lib/python3.6/site-packages/matplotlib/axes/_axes.py:6462: UserWarning: The 'normed' kwarg is deprecated, and has been replaced by the 'density' kwarg.\n",
      "  warnings.warn(\"The 'normed' kwarg is deprecated, and has been \"\n"
     ]
    },
    {
     "data": {
      "text/plain": [
       "<matplotlib.axes._subplots.AxesSubplot at 0x7f4e85189710>"
      ]
     },
     "execution_count": 49,
     "metadata": {},
     "output_type": "execute_result"
    },
    {
     "data": {
      "image/png": "[encoded data removed]",
      "text/plain": [
       "<Figure size 432x288 with 1 Axes>"
      ]
     },
     "metadata": {},
     "output_type": "display_data"
    }
   ],
   "source": [
    "# Representamos gráficamente el resultado\n",
    "sns.distplot(experimentos)"
   ]
  },
  {
   "cell_type": "code",
   "execution_count": null,
   "metadata": {},
   "outputs": [],
   "source": []
  }
 ],
 "metadata": {
  "kernelspec": {
   "display_name": "Python 3",
   "language": "python",
   "name": "python3"
  },
  "language_info": {
   "codemirror_mode": {
    "name": "ipython",
    "version": 3
   },
   "file_extension": ".py",
   "mimetype": "text/x-python",
   "name": "python",
   "nbconvert_exporter": "python",
   "pygments_lexer": "ipython3",
   "version": "3.6.5"
  }
 },
 "nbformat": 4,
 "nbformat_minor": 2
}
